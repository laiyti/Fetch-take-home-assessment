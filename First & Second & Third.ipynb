{
 "cells": [
  {
   "cell_type": "markdown",
   "metadata": {},
   "source": [
    "# First: explore the data\n",
    "* In this section, I conducted Exploratory Data Analysis (EDA) to identify any data quality issues, which included examining the dataset size, data types, data visualizations, and more.\n",
    "* I have summarized the data quality issues for each dataset in their respective markdown sections; please review them accordingly.\n",
    "* Additionally, you can find the code supporting these conclusions and all relevant details below.\n",
    "\n",
    "* Before reviewing the code, here are the conclusions that address the two questions posed in this section:\n",
    "\n",
    "1. Generally, there are several key data quality issues present in these datasets.\n",
    "\n",
    "    - __Missing values__: \n",
    "    There are missing values in several variables across each dataset. It is important to determine the best approach to handle these missing values. Possible solutions include filling them with the average, median, or mode. However, most missing values in these three datasets pertain to categorical data, such as users' STATE, GENDER, and LANGUAGE. This missing data must be handled carefully, as simply filling in these values with the mode may introduce significant bias or lead to misunderstandings.\n",
    "    \n",
    "    - __Duplicate values__: \n",
    "    There are duplicate entries in the 'Transaction' and Product' datasets. To avoid redundancy and potential errors during the merging process, I removed the duplicate rows from both the 'Transaction' and 'Product' datasets.\n",
    "\n",
    "    - __Data types__: \n",
    "    Some variables in the \"Transaction\" dataset are assigned inappropriate data types, specifically 'BARCODE', 'FINAL_SALE', and 'FINAL_QUANTITY.' These data type issues can lead to incorrect results during analysis and may also result in inefficient memory usage.\n",
    "\n",
    "    - __Data entry__: \n",
    "    I observed some data entry issues in the 'Transaction' dataset, specifically in 'FINAL_QUANTITY' and 'FINAL_SALE.' For instance, 'FINAL_QUANTITY' should be of numeric data type; however, there are entries with the string value 'zero.' Additionally, there are entries containing just a space (' ') in 'FINAL_SALE,' which are problematic because it is unclear whether they represent 0, unknown values, or entry errors.\n",
    "\n",
    "    - __Data completeness__: \n",
    "    Most of the user information in 'TRANSACTION_TAKEHOME.csv' is not available in 'USER_TAKEHOME.csv.' If additional user information from the \"Transaction\" dataset can be provided, it would enhance our understanding of the relationship between users and products. This insight could be invaluable for user segmentation, marketing strategies, and other analytical purposes.\n",
    "\n",
    "2. Some fields that are challenging to understand:\n",
    "* __'Transaction' dataset:__\n",
    "    - __'FINAL_QUANTITY'__: As mentioned above, there are some 'zero' entries in this variable. Except for the data type issue, if the quantity is zero, why it would present in the receipt scanned. According to some further analysis, I suggest maybe this 'zero' entries might combine with data entry issues.\n",
    "\n",
    "    - __'FINAL_SALE'__: It contains missing values and empty strings. As mentioned above, it’s unclear whether an empty string represents a transaction with no sale, a data entry error, or other possibilities.\n",
    "\n",
    "* __'Product' dataset:__\n",
    "    - __CATEGORY_3 and CATEGORY_4__: \n",
    "    While it is clear that CATEGORY_1 to CATEGORY_4 classify products from broad to specific, most entries in CATEGORY_4 contain null values. Additionally, CATEGORY_3 often provides a clear description of the product. The distinction between CATEGORY_3 and CATEGORY_4 is vague and may need clarification."
   ]
  },
  {
   "cell_type": "markdown",
   "metadata": {},
   "source": [
    "## Data Loading"
   ]
  },
  {
   "cell_type": "code",
   "execution_count": 1,
   "metadata": {},
   "outputs": [],
   "source": [
    "# Import pandas and matplotlib.pyplot\n",
    "import pandas as pd\n",
    "import matplotlib.pyplot as plt"
   ]
  },
  {
   "cell_type": "code",
   "execution_count": 2,
   "metadata": {},
   "outputs": [],
   "source": [
    "# Data loading\n",
    "User = pd.read_csv('USER_TAKEHOME.csv')\n",
    "Transaction = pd.read_csv('TRANSACTION_TAKEHOME.csv')\n",
    "Product = pd.read_csv('PRODUCTS_TAKEHOME.csv')"
   ]
  },
  {
   "cell_type": "markdown",
   "metadata": {},
   "source": [
    "## Overview of each data set"
   ]
  },
  {
   "cell_type": "markdown",
   "metadata": {},
   "source": [
    "### Overview - User\n",
    "#### Data quality issues in User:\n",
    "1. Missing values: There are some data in STATE, LANGUAGE, GENDER is missing in some users"
   ]
  },
  {
   "cell_type": "code",
   "execution_count": 3,
   "metadata": {},
   "outputs": [
    {
     "data": {
      "text/html": [
       "<div>\n",
       "<style scoped>\n",
       "    .dataframe tbody tr th:only-of-type {\n",
       "        vertical-align: middle;\n",
       "    }\n",
       "\n",
       "    .dataframe tbody tr th {\n",
       "        vertical-align: top;\n",
       "    }\n",
       "\n",
       "    .dataframe thead th {\n",
       "        text-align: right;\n",
       "    }\n",
       "</style>\n",
       "<table border=\"1\" class=\"dataframe\">\n",
       "  <thead>\n",
       "    <tr style=\"text-align: right;\">\n",
       "      <th></th>\n",
       "      <th>ID</th>\n",
       "      <th>CREATED_DATE</th>\n",
       "      <th>BIRTH_DATE</th>\n",
       "      <th>STATE</th>\n",
       "      <th>LANGUAGE</th>\n",
       "      <th>GENDER</th>\n",
       "    </tr>\n",
       "  </thead>\n",
       "  <tbody>\n",
       "    <tr>\n",
       "      <th>0</th>\n",
       "      <td>5ef3b4f17053ab141787697d</td>\n",
       "      <td>2020-06-24 20:17:54.000 Z</td>\n",
       "      <td>2000-08-11 00:00:00.000 Z</td>\n",
       "      <td>CA</td>\n",
       "      <td>es-419</td>\n",
       "      <td>female</td>\n",
       "    </tr>\n",
       "    <tr>\n",
       "      <th>1</th>\n",
       "      <td>5ff220d383fcfc12622b96bc</td>\n",
       "      <td>2021-01-03 19:53:55.000 Z</td>\n",
       "      <td>2001-09-24 04:00:00.000 Z</td>\n",
       "      <td>PA</td>\n",
       "      <td>en</td>\n",
       "      <td>female</td>\n",
       "    </tr>\n",
       "    <tr>\n",
       "      <th>2</th>\n",
       "      <td>6477950aa55bb77a0e27ee10</td>\n",
       "      <td>2023-05-31 18:42:18.000 Z</td>\n",
       "      <td>1994-10-28 00:00:00.000 Z</td>\n",
       "      <td>FL</td>\n",
       "      <td>es-419</td>\n",
       "      <td>female</td>\n",
       "    </tr>\n",
       "    <tr>\n",
       "      <th>3</th>\n",
       "      <td>658a306e99b40f103b63ccf8</td>\n",
       "      <td>2023-12-26 01:46:22.000 Z</td>\n",
       "      <td>NaN</td>\n",
       "      <td>NC</td>\n",
       "      <td>en</td>\n",
       "      <td>NaN</td>\n",
       "    </tr>\n",
       "    <tr>\n",
       "      <th>4</th>\n",
       "      <td>653cf5d6a225ea102b7ecdc2</td>\n",
       "      <td>2023-10-28 11:51:50.000 Z</td>\n",
       "      <td>1972-03-19 00:00:00.000 Z</td>\n",
       "      <td>PA</td>\n",
       "      <td>en</td>\n",
       "      <td>female</td>\n",
       "    </tr>\n",
       "  </tbody>\n",
       "</table>\n",
       "</div>"
      ],
      "text/plain": [
       "                         ID               CREATED_DATE  \\\n",
       "0  5ef3b4f17053ab141787697d  2020-06-24 20:17:54.000 Z   \n",
       "1  5ff220d383fcfc12622b96bc  2021-01-03 19:53:55.000 Z   \n",
       "2  6477950aa55bb77a0e27ee10  2023-05-31 18:42:18.000 Z   \n",
       "3  658a306e99b40f103b63ccf8  2023-12-26 01:46:22.000 Z   \n",
       "4  653cf5d6a225ea102b7ecdc2  2023-10-28 11:51:50.000 Z   \n",
       "\n",
       "                  BIRTH_DATE STATE LANGUAGE  GENDER  \n",
       "0  2000-08-11 00:00:00.000 Z    CA   es-419  female  \n",
       "1  2001-09-24 04:00:00.000 Z    PA       en  female  \n",
       "2  1994-10-28 00:00:00.000 Z    FL   es-419  female  \n",
       "3                        NaN    NC       en     NaN  \n",
       "4  1972-03-19 00:00:00.000 Z    PA       en  female  "
      ]
     },
     "execution_count": 3,
     "metadata": {},
     "output_type": "execute_result"
    }
   ],
   "source": [
    "# Quick look of User\n",
    "User.head()"
   ]
  },
  {
   "cell_type": "code",
   "execution_count": 4,
   "metadata": {},
   "outputs": [
    {
     "name": "stdout",
     "output_type": "stream",
     "text": [
      "<class 'pandas.core.frame.DataFrame'>\n",
      "RangeIndex: 100000 entries, 0 to 99999\n",
      "Data columns (total 6 columns):\n",
      " #   Column        Non-Null Count   Dtype \n",
      "---  ------        --------------   ----- \n",
      " 0   ID            100000 non-null  object\n",
      " 1   CREATED_DATE  100000 non-null  object\n",
      " 2   BIRTH_DATE    96325 non-null   object\n",
      " 3   STATE         95188 non-null   object\n",
      " 4   LANGUAGE      69492 non-null   object\n",
      " 5   GENDER        94108 non-null   object\n",
      "dtypes: object(6)\n",
      "memory usage: 4.6+ MB\n"
     ]
    }
   ],
   "source": [
    "# Check the data type and non-null values\n",
    "User.info()\n",
    "# Missing values show in 'STATE', 'LANGUAGE', 'GENDER'"
   ]
  },
  {
   "cell_type": "code",
   "execution_count": 5,
   "metadata": {},
   "outputs": [
    {
     "data": {
      "text/plain": [
       "100000"
      ]
     },
     "execution_count": 5,
     "metadata": {},
     "output_type": "execute_result"
    }
   ],
   "source": [
    "# User: ID\n",
    "# Calculate the number of unique USER_ID, checking if there is any duplicate USER_IDs\n",
    "User['ID'].nunique() # ID in User has no duplicate"
   ]
  },
  {
   "cell_type": "code",
   "execution_count": 6,
   "metadata": {},
   "outputs": [
    {
     "data": {
      "image/png": "[encoded data removed]",
      "text/plain": [
       "<Figure size 800x600 with 1 Axes>"
      ]
     },
     "metadata": {},
     "output_type": "display_data"
    }
   ],
   "source": [
    "# User: CREATED_DATE\n",
    "# Create a copy for User\n",
    "User_copy = User.copy()\n",
    "# Convert CREATED_DATE to datetime format\n",
    "User_copy['CREATED_DATE'] = pd.to_datetime(User_copy['CREATED_DATE'])\n",
    "\n",
    "# Create a histogram to show the distribution of users' CREATED_DATE\n",
    "# Fetch logo color reference: https://logotyp.us/logo/fetch-rewards/\n",
    "plt.figure(figsize=(8, 6))\n",
    "plt.hist(User_copy['CREATED_DATE'].dt.date, bins=40, color='#f8a619', edgecolor='black')\n",
    "plt.title('Distribution of users by CREATED_DATE')\n",
    "plt.xlabel('Created Date')\n",
    "plt.ylabel('Number of Users')\n",
    "plt.xticks(rotation=45)\n",
    "plt.tight_layout()\n",
    "\n",
    "## Show the plot\n",
    "plt.show()"
   ]
  },
  {
   "cell_type": "code",
   "execution_count": 7,
   "metadata": {},
   "outputs": [
    {
     "data": {
      "image/png": "[encoded data removed]",
      "text/plain": [
       "<Figure size 800x600 with 1 Axes>"
      ]
     },
     "metadata": {},
     "output_type": "display_data"
    }
   ],
   "source": [
    "# User: BIRTH_DATE\n",
    "# import datetime\n",
    "from datetime import datetime\n",
    "\n",
    "# Convert BIRTH_DATE to datetime\n",
    "User_copy['BIRTH_DATE'] = pd.to_datetime(User_copy['BIRTH_DATE'])\n",
    "\n",
    "# Calculate AGE for each users\n",
    "User_copy['AGE'] = datetime.now().year - User_copy['BIRTH_DATE'].dt.year\n",
    "\n",
    "# Create a histogram to show the distribution of user age\n",
    "plt.figure(figsize=(8, 6))\n",
    "plt.hist(User_copy['AGE'], color='#f8a619', edgecolor='black')\n",
    "plt.title('Distribution of user age')\n",
    "plt.xlabel('Age')\n",
    "plt.ylabel('Number of Users')\n",
    "plt.xticks(rotation=0)\n",
    "plt.tight_layout()\n",
    "\n",
    "# Show the plot\n",
    "plt.show()"
   ]
  },
  {
   "cell_type": "code",
   "execution_count": 8,
   "metadata": {},
   "outputs": [
    {
     "name": "stdout",
     "output_type": "stream",
     "text": [
      "STATE\n",
      "TX         9028\n",
      "FL         8921\n",
      "CA         8589\n",
      "NY         5703\n",
      "unknown    4812\n",
      "IL         3794\n",
      "GA         3718\n",
      "PA         3644\n",
      "OH         3519\n",
      "NC         3399\n",
      "NJ         2899\n",
      "MI         2582\n",
      "VA         2400\n",
      "IN         2213\n",
      "TN         2165\n",
      "AL         1792\n",
      "SC         1773\n",
      "KY         1731\n",
      "AZ         1728\n",
      "MO         1652\n",
      "MD         1636\n",
      "MA         1523\n",
      "WI         1389\n",
      "PR         1361\n",
      "LA         1290\n",
      "WA         1234\n",
      "CO         1139\n",
      "MN         1125\n",
      "CT         1110\n",
      "OK         1100\n",
      "AR         1011\n",
      "MS          960\n",
      "IA          933\n",
      "NV          837\n",
      "KS          835\n",
      "OR          700\n",
      "WV          674\n",
      "UT          593\n",
      "DE          492\n",
      "NE          487\n",
      "NM          452\n",
      "ME          368\n",
      "NH          359\n",
      "HI          350\n",
      "ID          350\n",
      "AK          297\n",
      "RI          284\n",
      "DC          241\n",
      "SD          205\n",
      "ND          185\n",
      "MT          169\n",
      "WY          138\n",
      "VT          111\n",
      "Name: count, dtype: int64\n"
     ]
    },
    {
     "data": {
      "image/png": "[encoded data removed]",
      "text/plain": [
       "<Figure size 1000x600 with 1 Axes>"
      ]
     },
     "metadata": {},
     "output_type": "display_data"
    }
   ],
   "source": [
    "# User: STATE\n",
    "# Assuming the null values are unknown\n",
    "User_copy['STATE'] = User_copy['STATE'].fillna('unknown')\n",
    "\n",
    "# Calculate the number of users in each state\n",
    "state_counts = User_copy['STATE'].value_counts()\n",
    "print(state_counts)\n",
    "\n",
    "# Create a bar chart to show the distribution of users by STATE\n",
    "# Compare to the real population distribution: https://worldpopulationreview.com/states\n",
    "# The rank of numbers of users in each state shows in User dataset shows consistency comparing with the real population in each states.\n",
    "# The reason for this comparison is to identify any outliers. \n",
    "## For example, if one state has many Fetch users but a relatively small population, this could indicate an outlier, or it could also imply this data is incomplete.\n",
    "plt.figure(figsize=(10, 6))\n",
    "plt.bar(state_counts.index, state_counts.values, color='#f8a619', edgecolor='black')\n",
    "plt.title('Distribution of users by STATE')\n",
    "plt.xlabel('State')\n",
    "plt.ylabel('Number of Users')\n",
    "plt.xticks(rotation=90)\n",
    "plt.tight_layout()\n",
    "\n",
    "# Show the plot\n",
    "plt.show()"
   ]
  },
  {
   "cell_type": "code",
   "execution_count": 9,
   "metadata": {},
   "outputs": [
    {
     "name": "stdout",
     "output_type": "stream",
     "text": [
      "LANGUAGE\n",
      "en         63403\n",
      "unknown    30508\n",
      "es-419      6089\n",
      "Name: count, dtype: int64\n"
     ]
    },
    {
     "data": {
      "image/png": "[encoded data removed]",
      "text/plain": [
       "<Figure size 800x600 with 1 Axes>"
      ]
     },
     "metadata": {},
     "output_type": "display_data"
    }
   ],
   "source": [
    "# User: LANGUAGE\n",
    "# Assuming the null values are unknown\n",
    "User_copy['LANGUAGE'] = User_copy['LANGUAGE'].fillna('unknown')\n",
    "\n",
    "# Count the occurrences of each language\n",
    "language_counts = User_copy['LANGUAGE'].value_counts()\n",
    "print(language_counts) # en refers to English, and es-419 refers to Spanish \n",
    "\n",
    "# Use the Fetch logo colors \n",
    "colors = ['#f8a619', '#403f41', '#2f0c38']\n",
    "\n",
    "# Create a pie chart\n",
    "plt.figure(figsize=(8, 6))\n",
    "plt.pie(language_counts, labels=language_counts.index, autopct='%1.1f%%', startangle=100, colors=colors)\n",
    "plt.title('Distribution of language in the users')\n",
    "\n",
    "# Show the plot\n",
    "plt.show()"
   ]
  },
  {
   "cell_type": "code",
   "execution_count": 10,
   "metadata": {},
   "outputs": [
    {
     "name": "stdout",
     "output_type": "stream",
     "text": [
      "GENDER\n",
      "female                    64240\n",
      "male                      25829\n",
      "unknown                    6088\n",
      "transgender                1772\n",
      "prefer_not_to_say          1350\n",
      "non_binary                  473\n",
      "not_listed                  180\n",
      "Non-Binary                   34\n",
      "not_specified                28\n",
      "My gender isn't listed        5\n",
      "Prefer not to say             1\n",
      "Name: count, dtype: int64\n"
     ]
    },
    {
     "data": {
      "image/png": "[encoded data removed]",
      "text/plain": [
       "<Figure size 800x600 with 1 Axes>"
      ]
     },
     "metadata": {},
     "output_type": "display_data"
    }
   ],
   "source": [
    "# User: GENDER\n",
    "# Assuming the null values are unknown\n",
    "User_copy['GENDER'] = User_copy['GENDER'].fillna('unknown')\n",
    "\n",
    "# Count the occurrences of each gender\n",
    "gender_counts = User_copy['GENDER'].value_counts()\n",
    "print(gender_counts)\n",
    "\n",
    "# Group all types except 'male' and 'female' into 'Other'\n",
    "gender_counts['other'] = gender_counts.drop(['male', 'female', 'unknown']).sum()\n",
    "gender_counts = gender_counts[['male', 'female', 'other', 'unknown']]\n",
    "\n",
    "# Define the colors\n",
    "colors = ['#2f0c38', '#f8a619', '#008000', '#403f41']\n",
    "\n",
    "## Create a pie chart\n",
    "plt.figure(figsize=(8, 6))\n",
    "plt.pie(gender_counts, labels=gender_counts.index, autopct='%1.1f%%', startangle=0, colors=colors)\n",
    "plt.title('Distribution of user genders')\n",
    "\n",
    "## Show the plot\n",
    "plt.show()"
   ]
  },
  {
   "cell_type": "markdown",
   "metadata": {},
   "source": [
    "### Overview - Transaction"
   ]
  },
  {
   "cell_type": "markdown",
   "metadata": {},
   "source": [
    "#### Data quality issues in Transaction:\n",
    "1. Missing values: There are missing values in 'BARCODE,' making it difficult to ascertain product information.\n",
    "2. Data type issues: 'BARCODE', 'FINAL_SALE', 'FINAL_QUANTITY' should be treated as different data types:\n",
    "    - 'BARCODE' should be treated as a string since it serves as an identifier and will not be used for calculations.\n",
    "    - 'FINAL_SALE' and 'FINAL_QUANTITY' should be treated as numeric data types because these values will be used in calculations.\n",
    "3. Inconsistent variable name with Entity-Relationship Model(ERD): The ERD refers to 'sale' and 'quantity,' while the actual data uses 'FINAL_SALE' and 'FINAL_QUANTITY,' leading to potential confusion.\n",
    "4. Duplicate values: There are 171 duplicate values show in Transaction dataset\n",
    "5. Data entry issue: 'FINAL_QUANTITY' & 'FINAL_SALE'\n",
    "    - In 'FINAL_QUANTITY,' some rows display 'zero' as a string, which could cause errors during calculations.\n",
    "    - In 'FINAL_SALE,' some rows contain a space (' '), which is ambiguous as it is unclear whether this represents an entry error, a missing value, or zero."
   ]
  },
  {
   "cell_type": "code",
   "execution_count": 11,
   "metadata": {},
   "outputs": [
    {
     "data": {
      "text/html": [
       "<div>\n",
       "<style scoped>\n",
       "    .dataframe tbody tr th:only-of-type {\n",
       "        vertical-align: middle;\n",
       "    }\n",
       "\n",
       "    .dataframe tbody tr th {\n",
       "        vertical-align: top;\n",
       "    }\n",
       "\n",
       "    .dataframe thead th {\n",
       "        text-align: right;\n",
       "    }\n",
       "</style>\n",
       "<table border=\"1\" class=\"dataframe\">\n",
       "  <thead>\n",
       "    <tr style=\"text-align: right;\">\n",
       "      <th></th>\n",
       "      <th>RECEIPT_ID</th>\n",
       "      <th>PURCHASE_DATE</th>\n",
       "      <th>SCAN_DATE</th>\n",
       "      <th>STORE_NAME</th>\n",
       "      <th>USER_ID</th>\n",
       "      <th>BARCODE</th>\n",
       "      <th>FINAL_QUANTITY</th>\n",
       "      <th>FINAL_SALE</th>\n",
       "    </tr>\n",
       "  </thead>\n",
       "  <tbody>\n",
       "    <tr>\n",
       "      <th>0</th>\n",
       "      <td>0000d256-4041-4a3e-adc4-5623fb6e0c99</td>\n",
       "      <td>2024-08-21</td>\n",
       "      <td>2024-08-21 14:19:06.539 Z</td>\n",
       "      <td>WALMART</td>\n",
       "      <td>63b73a7f3d310dceeabd4758</td>\n",
       "      <td>1.530001e+10</td>\n",
       "      <td>1.00</td>\n",
       "      <td></td>\n",
       "    </tr>\n",
       "    <tr>\n",
       "      <th>1</th>\n",
       "      <td>0001455d-7a92-4a7b-a1d2-c747af1c8fd3</td>\n",
       "      <td>2024-07-20</td>\n",
       "      <td>2024-07-20 09:50:24.206 Z</td>\n",
       "      <td>ALDI</td>\n",
       "      <td>62c08877baa38d1a1f6c211a</td>\n",
       "      <td>NaN</td>\n",
       "      <td>zero</td>\n",
       "      <td>1.49</td>\n",
       "    </tr>\n",
       "    <tr>\n",
       "      <th>2</th>\n",
       "      <td>00017e0a-7851-42fb-bfab-0baa96e23586</td>\n",
       "      <td>2024-08-18</td>\n",
       "      <td>2024-08-19 15:38:56.813 Z</td>\n",
       "      <td>WALMART</td>\n",
       "      <td>60842f207ac8b7729e472020</td>\n",
       "      <td>7.874223e+10</td>\n",
       "      <td>1.00</td>\n",
       "      <td></td>\n",
       "    </tr>\n",
       "    <tr>\n",
       "      <th>3</th>\n",
       "      <td>000239aa-3478-453d-801e-66a82e39c8af</td>\n",
       "      <td>2024-06-18</td>\n",
       "      <td>2024-06-19 11:03:37.468 Z</td>\n",
       "      <td>FOOD LION</td>\n",
       "      <td>63fcd7cea4f8442c3386b589</td>\n",
       "      <td>7.833997e+11</td>\n",
       "      <td>zero</td>\n",
       "      <td>3.49</td>\n",
       "    </tr>\n",
       "    <tr>\n",
       "      <th>4</th>\n",
       "      <td>00026b4c-dfe8-49dd-b026-4c2f0fd5c6a1</td>\n",
       "      <td>2024-07-04</td>\n",
       "      <td>2024-07-05 15:56:43.549 Z</td>\n",
       "      <td>RANDALLS</td>\n",
       "      <td>6193231ae9b3d75037b0f928</td>\n",
       "      <td>4.790050e+10</td>\n",
       "      <td>1.00</td>\n",
       "      <td></td>\n",
       "    </tr>\n",
       "  </tbody>\n",
       "</table>\n",
       "</div>"
      ],
      "text/plain": [
       "                             RECEIPT_ID PURCHASE_DATE  \\\n",
       "0  0000d256-4041-4a3e-adc4-5623fb6e0c99    2024-08-21   \n",
       "1  0001455d-7a92-4a7b-a1d2-c747af1c8fd3    2024-07-20   \n",
       "2  00017e0a-7851-42fb-bfab-0baa96e23586    2024-08-18   \n",
       "3  000239aa-3478-453d-801e-66a82e39c8af    2024-06-18   \n",
       "4  00026b4c-dfe8-49dd-b026-4c2f0fd5c6a1    2024-07-04   \n",
       "\n",
       "                   SCAN_DATE STORE_NAME                   USER_ID  \\\n",
       "0  2024-08-21 14:19:06.539 Z    WALMART  63b73a7f3d310dceeabd4758   \n",
       "1  2024-07-20 09:50:24.206 Z       ALDI  62c08877baa38d1a1f6c211a   \n",
       "2  2024-08-19 15:38:56.813 Z    WALMART  60842f207ac8b7729e472020   \n",
       "3  2024-06-19 11:03:37.468 Z  FOOD LION  63fcd7cea4f8442c3386b589   \n",
       "4  2024-07-05 15:56:43.549 Z   RANDALLS  6193231ae9b3d75037b0f928   \n",
       "\n",
       "        BARCODE FINAL_QUANTITY FINAL_SALE  \n",
       "0  1.530001e+10           1.00             \n",
       "1           NaN           zero       1.49  \n",
       "2  7.874223e+10           1.00             \n",
       "3  7.833997e+11           zero       3.49  \n",
       "4  4.790050e+10           1.00             "
      ]
     },
     "execution_count": 11,
     "metadata": {},
     "output_type": "execute_result"
    }
   ],
   "source": [
    "# Quick look of Transaction\n",
    "Transaction.head()"
   ]
  },
  {
   "cell_type": "code",
   "execution_count": 12,
   "metadata": {},
   "outputs": [
    {
     "name": "stdout",
     "output_type": "stream",
     "text": [
      "<class 'pandas.core.frame.DataFrame'>\n",
      "RangeIndex: 50000 entries, 0 to 49999\n",
      "Data columns (total 8 columns):\n",
      " #   Column          Non-Null Count  Dtype  \n",
      "---  ------          --------------  -----  \n",
      " 0   RECEIPT_ID      50000 non-null  object \n",
      " 1   PURCHASE_DATE   50000 non-null  object \n",
      " 2   SCAN_DATE       50000 non-null  object \n",
      " 3   STORE_NAME      50000 non-null  object \n",
      " 4   USER_ID         50000 non-null  object \n",
      " 5   BARCODE         44238 non-null  float64\n",
      " 6   FINAL_QUANTITY  50000 non-null  object \n",
      " 7   FINAL_SALE      50000 non-null  object \n",
      "dtypes: float64(1), object(7)\n",
      "memory usage: 3.1+ MB\n"
     ]
    }
   ],
   "source": [
    "# Check the data type and non-null values\n",
    "Transaction.info()\n",
    "# Missing values show in 'BARCODE'\n",
    "# Data type issues:\n",
    "## 1. BARCODE should be treated as object, since BARCODE is the identifier and will not be used for calculations (even though it shows interger type on ERD)\n",
    "## 2. FINAL_QUANTITY and FINAL_SALE should be treated as numeric data type\n",
    "## 3. The field name: FINAL_QUANTITY and FINAL_SALE is not consistent with the ERD"
   ]
  },
  {
   "cell_type": "code",
   "execution_count": 13,
   "metadata": {},
   "outputs": [
    {
     "name": "stdout",
     "output_type": "stream",
     "text": [
      "24440\n",
      "171\n",
      "<class 'pandas.core.frame.DataFrame'>\n",
      "Index: 49829 entries, 0 to 49999\n",
      "Data columns (total 8 columns):\n",
      " #   Column          Non-Null Count  Dtype  \n",
      "---  ------          --------------  -----  \n",
      " 0   RECEIPT_ID      49829 non-null  object \n",
      " 1   PURCHASE_DATE   49829 non-null  object \n",
      " 2   SCAN_DATE       49829 non-null  object \n",
      " 3   STORE_NAME      49829 non-null  object \n",
      " 4   USER_ID         49829 non-null  object \n",
      " 5   BARCODE         44094 non-null  float64\n",
      " 6   FINAL_QUANTITY  49829 non-null  object \n",
      " 7   FINAL_SALE      49829 non-null  object \n",
      "dtypes: float64(1), object(7)\n",
      "memory usage: 3.4+ MB\n"
     ]
    }
   ],
   "source": [
    "# Transaction: RECEIPT_ID\n",
    "# Create a copy for Transaction\n",
    "Transaction_copy = Transaction.copy() \n",
    "\n",
    "# Calculate the unique number of RECEIPT_IDs\n",
    "print(Transaction_copy['RECEIPT_ID'].nunique()) # There are only 24440 unique RECEIPT_ID, while in Transation there are 50000 RECEIPT_ID entries\n",
    "\n",
    "# Check if there are duplicates\n",
    "print(Transaction_copy.duplicated().sum()) # There are 171 duplicates\n",
    "\n",
    "# Drop duplicate rows\n",
    "Transaction_copy = Transaction_copy.drop_duplicates()\n",
    "Transaction_copy.info()"
   ]
  },
  {
   "cell_type": "code",
   "execution_count": 14,
   "metadata": {},
   "outputs": [
    {
     "name": "stdout",
     "output_type": "stream",
     "text": [
      "This Transaction dataset purchase date is from 2024-06-12 00:00:00 to 2024-09-08 00:00:00\n",
      "This Transaction dataset scan date is from 2024-06-12 06:36:34.910000+00:00 to 2024-09-08 23:07:19.836000+00:00\n"
     ]
    },
    {
     "data": {
      "image/png": "[encoded data removed]",
      "text/plain": [
       "<Figure size 800x1200 with 2 Axes>"
      ]
     },
     "metadata": {},
     "output_type": "display_data"
    }
   ],
   "source": [
    "# Transaction: PURCHASE_DATE\n",
    "# Convert PURCHASE_DATE and SCAN_DATE to datetime format\n",
    "Transaction_copy['PURCHASE_DATE'] = pd.to_datetime(Transaction_copy['PURCHASE_DATE'])\n",
    "Transaction_copy['SCAN_DATE'] = pd.to_datetime(Transaction_copy['SCAN_DATE'])\n",
    "\n",
    "# Create a new Transaction_copy to drop duplicates based on RECEIPT_ID, because I will count the occurrences for transactions\n",
    "# We keep Transaction_copy because it is possible that the same RECEIPT_ID show different BARCODE, which will be checked later\n",
    "Transaction_copy_2 = Transaction_copy.drop_duplicates(subset='RECEIPT_ID')\n",
    "\n",
    "# Set up the subplots size and axis\n",
    "fig, axs = plt.subplots(2, 1, figsize=(8, 12), sharex=True, sharey=True)\n",
    "\n",
    "# Check the PURCHASE_DATE date for Transaction data\n",
    "purchase_start_date = Transaction_copy_2['PURCHASE_DATE'].min()\n",
    "purchase_end_date = Transaction_copy_2['PURCHASE_DATE'].max()\n",
    "print(f'This Transaction dataset purchase date is from {purchase_start_date} to {purchase_end_date}')\n",
    "\n",
    "# Calculate the number of days from the first purchase to last one \n",
    "purchase_num_days = (purchase_end_date - purchase_start_date).days\n",
    "# Create a histogram to show the distribution of transactions by PURCHASE_DATE\n",
    "axs[0].hist(Transaction_copy_2['PURCHASE_DATE'].dt.date, bins=purchase_num_days, color='#f8a619', edgecolor='black')\n",
    "axs[0].set_title('Distribution of Transactions by PURCHASE_DATE')\n",
    "axs[0].set_xlabel('Purchase Date')\n",
    "axs[0].set_ylabel('Number of Purchases')\n",
    "axs[0].tick_params(axis='x', rotation=45)\n",
    "\n",
    "# Check the SCAN_DATE date for Transaction data\n",
    "scan_start_date = Transaction_copy_2['SCAN_DATE'].min()\n",
    "scan_end_date = Transaction_copy_2['SCAN_DATE'].max()\n",
    "print(f'This Transaction dataset scan date is from {scan_start_date} to {scan_end_date}')\n",
    "\n",
    "# Calculate the number of days from the first scan to last one \n",
    "scan_num_days = (scan_end_date - scan_start_date).days\n",
    "# Create a histogram to show the distribution of transactions by SCAN_DATE\n",
    "axs[1].hist(Transaction_copy_2['SCAN_DATE'].dt.date, bins=scan_num_days, color='#f8a619', edgecolor='black')\n",
    "axs[1].set_title('Distribution of number of receipts by SCAN_DATE')\n",
    "axs[1].set_xlabel('Scan Date')\n",
    "axs[1].set_ylabel('Number of Scans')\n",
    "axs[1].tick_params(axis='x', rotation=45)\n",
    "\n",
    "## Show the plot\n",
    "plt.show()\n"
   ]
  },
  {
   "cell_type": "code",
   "execution_count": 15,
   "metadata": {},
   "outputs": [
    {
     "data": {
      "text/plain": [
       "STORE_NAME\n",
       "WALMART                   10347\n",
       "DOLLAR GENERAL STORE       1360\n",
       "ALDI                       1278\n",
       "TARGET                      739\n",
       "KROGER                      725\n",
       "DOLLAR TREE STORES INC      610\n",
       "PUBLIX                      584\n",
       "CVS                         579\n",
       "MEIJER                      576\n",
       "WALGREENS                   559\n",
       "Name: RECEIPT_ID, dtype: int64"
      ]
     },
     "execution_count": 15,
     "metadata": {},
     "output_type": "execute_result"
    }
   ],
   "source": [
    "# Transaction: STORE_NAME\n",
    "Transaction_copy['STORE_NAME'].unique()\n",
    "\n",
    "# Check the top 10 stores which have most receipts scanned\n",
    "Transaction_copy.groupby('STORE_NAME')['RECEIPT_ID'].nunique().sort_values(ascending=False).head(10)"
   ]
  },
  {
   "cell_type": "code",
   "execution_count": 16,
   "metadata": {},
   "outputs": [
    {
     "name": "stdout",
     "output_type": "stream",
     "text": [
      "['1.00' 'zero' '2.00' '3.00' '4.00' '4.55' '2.83' '2.34' '0.46' '7.00'\n",
      " '18.00' '12.00' '5.00' '2.17' '0.23' '8.00' '1.35' '0.09' '2.58' '1.47'\n",
      " '16.00' '0.62' '1.24' '1.40' '0.51' '0.53' '1.69' '6.00' '2.39' '2.60'\n",
      " '10.00' '0.86' '1.54' '1.88' '2.93' '1.28' '0.65' '2.89' '1.44' '2.75'\n",
      " '1.81' '276.00' '0.87' '2.10' '3.33' '2.54' '2.20' '1.93' '1.34' '1.13'\n",
      " '2.19' '0.83' '2.61' '0.28' '1.50' '0.97' '0.24' '1.18' '6.22' '1.22'\n",
      " '1.23' '2.57' '1.07' '2.11' '0.48' '9.00' '3.11' '1.08' '5.53' '1.89'\n",
      " '0.01' '2.18' '1.99' '0.04' '2.25' '1.37' '3.02' '0.35' '0.99' '1.80'\n",
      " '3.24' '0.94' '2.04' '3.69' '0.70' '2.52' '2.27']\n",
      "Occurrences of each RECEIPT_ID:\n",
      " RECEIPT_ID                            BARCODE     \n",
      "000239aa-3478-453d-801e-66a82e39c8af  7.833997e+11    2\n",
      "0002d8cd-1701-4cdd-a524-b70402e2dbc0  6.811314e+11    2\n",
      "00096c49-8b04-42f9-88ce-941c5e06c4a7  7.830007e+10    2\n",
      "0019ec79-cbb3-41ed-b84c-cd74d04553f8  5.150025e+10    2\n",
      "001f2f3f-1746-4217-a98f-73c63c63bae2  4.600029e+10    2\n",
      "                                                     ..\n",
      "ffebda11-ff18-46e0-8455-cef0679558cc  7.940059e+10    2\n",
      "ffef10cb-52ac-4123-aa87-0d65e85b6ef7  7.940045e+10    2\n",
      "fff60bb7-bf93-4e6b-8055-4d7688da7ead  7.874221e+10    2\n",
      "fffbb112-3cc5-47c2-b014-08db2f87e0c7  8.180000e+11    2\n",
      "fffe8012-7dcf-4d84-b6c6-feaacab5074a  7.432310e+10    2\n",
      "Length: 11404, dtype: int64\n",
      "All RECEIPT_IDs occur at least twice: True\n"
     ]
    },
    {
     "name": "stderr",
     "output_type": "stream",
     "text": [
      "/var/folders/k5/p6mtc1q551jcsw8bjjh9smqc0000gn/T/ipykernel_88674/87576166.py:7: UserWarning: Boolean Series key will be reindexed to match DataFrame index.\n",
      "  zero_quantity = Transaction_copy[Transaction['FINAL_QUANTITY'] == 'zero']\n"
     ]
    }
   ],
   "source": [
    "# Transaction: FINAL_QUANTITY\n",
    "# Check the quantity entries are all numbers\n",
    "unique_final_quantity_values = Transaction_copy['FINAL_QUANTITY'].unique()\n",
    "print(unique_final_quantity_values) ## string:'zero': shows in FINAL_QUANTITY\n",
    "\n",
    "# Save the transactions which have 'zero' quantity in FINAL_QUANTITY as 'zero_quantity'\n",
    "zero_quantity = Transaction_copy[Transaction['FINAL_QUANTITY'] == 'zero']\n",
    "\n",
    "# Check if 'zero_quantity' are all have duplicate enties\n",
    "transactions_with_zero_quantity = Transaction_copy[Transaction_copy['RECEIPT_ID'].isin(zero_quantity['RECEIPT_ID'])]\n",
    "receipt_counts = transactions_with_zero_quantity.groupby(['RECEIPT_ID', 'BARCODE']).size()\n",
    "\n",
    "# Check if all counts are at least 2\n",
    "at_least_twice = (receipt_counts >= 2).all()\n",
    "\n",
    "## Show the results\n",
    "print(\"Occurrences of each RECEIPT_ID:\\n\", receipt_counts)\n",
    "print(\"All RECEIPT_IDs occur at least twice:\", at_least_twice) # TRUE. It might implies there are some data entry issues\n",
    "\n",
    "## According to ERD, FINAL_QUANTITY should be numeric, but shows 'zero', which is a string.\n",
    "## This might cause some inconsistent and calculation issues when doing calculations.\n",
    "## Also, if the FINAL_QUANTITY is 0, then the data might be redundant.\n",
    "## Group by same RECEIPT_ID and BARCODE, those transaction with 'zero' quantity record also shows duplicate in RECEIPT_ID"
   ]
  },
  {
   "cell_type": "code",
   "execution_count": 17,
   "metadata": {},
   "outputs": [
    {
     "data": {
      "text/plain": [
       "array([' ', '1.49', '3.49', ..., '11.02', '20.17', '42.38'], dtype=object)"
      ]
     },
     "execution_count": 17,
     "metadata": {},
     "output_type": "execute_result"
    }
   ],
   "source": [
    "# Transaction: FINAL_SALE\n",
    "final_sale_index = Transaction_copy['FINAL_SALE'].unique()\n",
    "# check the index\n",
    "final_sale_index\n",
    "\n",
    "# Some rows in 'FINAL_SALE' shows ' ', which is confusing because I am not sure if it is entry error or missing value or 0"
   ]
  },
  {
   "cell_type": "code",
   "execution_count": 18,
   "metadata": {},
   "outputs": [
    {
     "name": "stdout",
     "output_type": "stream",
     "text": [
      "<class 'pandas.core.frame.DataFrame'>\n",
      "Index: 24538 entries, 25000 to 49999\n",
      "Data columns (total 8 columns):\n",
      " #   Column          Non-Null Count  Dtype              \n",
      "---  ------          --------------  -----              \n",
      " 0   RECEIPT_ID      24538 non-null  object             \n",
      " 1   PURCHASE_DATE   24538 non-null  datetime64[ns]     \n",
      " 2   SCAN_DATE       24538 non-null  datetime64[ns, UTC]\n",
      " 3   STORE_NAME      24538 non-null  object             \n",
      " 4   USER_ID         24538 non-null  object             \n",
      " 5   BARCODE         21882 non-null  float64            \n",
      " 6   FINAL_QUANTITY  24538 non-null  object             \n",
      " 7   FINAL_SALE      24538 non-null  object             \n",
      "dtypes: datetime64[ns, UTC](1), datetime64[ns](1), float64(1), object(5)\n",
      "memory usage: 1.7+ MB\n"
     ]
    }
   ],
   "source": [
    "# Assume that the following data entries are redundant so should be cleaned\n",
    "## FINAL_QUANTITY = 'zero'\n",
    "## FINAL_SALE = ' ' or '0.00'\n",
    "\n",
    "# Define the filter condition\n",
    "filter_condition = (Transaction_copy['FINAL_QUANTITY'] != 'zero') & (Transaction_copy['FINAL_SALE'] != ' ') & (Transaction_copy['FINAL_SALE'] != '0.00')\n",
    "\n",
    "# Create a new DataFrame: Transaction_filtered using the filter condition\n",
    "Transaction_2 = Transaction_copy[filter_condition]\n",
    "\n",
    "# Check Transaction_filtered information\n",
    "Transaction_2.info()"
   ]
  },
  {
   "cell_type": "markdown",
   "metadata": {},
   "source": [
    "### Overview - Product"
   ]
  },
  {
   "cell_type": "markdown",
   "metadata": {},
   "source": [
    "#### Data quality issues in Product:\n",
    "1. Missing values: There are missing values in 'CATEGORY_3', 'CATEGORY_4', 'MANUFACTURER', 'BRAND'\n",
    "2. Duplicate values: There are 215 rows is completely duplicated in Product\n",
    "3. Data entry issue: Multiple companies may share the same BRAND names, leading to potential misunderstandings. For example, 'DOVE' refers to both the body soap brand and the Dove chocolate brand."
   ]
  },
  {
   "cell_type": "code",
   "execution_count": 19,
   "metadata": {},
   "outputs": [
    {
     "data": {
      "text/html": [
       "<div>\n",
       "<style scoped>\n",
       "    .dataframe tbody tr th:only-of-type {\n",
       "        vertical-align: middle;\n",
       "    }\n",
       "\n",
       "    .dataframe tbody tr th {\n",
       "        vertical-align: top;\n",
       "    }\n",
       "\n",
       "    .dataframe thead th {\n",
       "        text-align: right;\n",
       "    }\n",
       "</style>\n",
       "<table border=\"1\" class=\"dataframe\">\n",
       "  <thead>\n",
       "    <tr style=\"text-align: right;\">\n",
       "      <th></th>\n",
       "      <th>CATEGORY_1</th>\n",
       "      <th>CATEGORY_2</th>\n",
       "      <th>CATEGORY_3</th>\n",
       "      <th>CATEGORY_4</th>\n",
       "      <th>MANUFACTURER</th>\n",
       "      <th>BRAND</th>\n",
       "      <th>BARCODE</th>\n",
       "    </tr>\n",
       "  </thead>\n",
       "  <tbody>\n",
       "    <tr>\n",
       "      <th>0</th>\n",
       "      <td>Health &amp; Wellness</td>\n",
       "      <td>Sexual Health</td>\n",
       "      <td>Conductivity Gels &amp; Lotions</td>\n",
       "      <td>NaN</td>\n",
       "      <td>NaN</td>\n",
       "      <td>NaN</td>\n",
       "      <td>7.964944e+11</td>\n",
       "    </tr>\n",
       "    <tr>\n",
       "      <th>1</th>\n",
       "      <td>Snacks</td>\n",
       "      <td>Puffed Snacks</td>\n",
       "      <td>Cheese Curls &amp; Puffs</td>\n",
       "      <td>NaN</td>\n",
       "      <td>NaN</td>\n",
       "      <td>NaN</td>\n",
       "      <td>2.327801e+10</td>\n",
       "    </tr>\n",
       "    <tr>\n",
       "      <th>2</th>\n",
       "      <td>Health &amp; Wellness</td>\n",
       "      <td>Hair Care</td>\n",
       "      <td>Hair Care Accessories</td>\n",
       "      <td>NaN</td>\n",
       "      <td>PLACEHOLDER MANUFACTURER</td>\n",
       "      <td>ELECSOP</td>\n",
       "      <td>4.618178e+11</td>\n",
       "    </tr>\n",
       "    <tr>\n",
       "      <th>3</th>\n",
       "      <td>Health &amp; Wellness</td>\n",
       "      <td>Oral Care</td>\n",
       "      <td>Toothpaste</td>\n",
       "      <td>NaN</td>\n",
       "      <td>COLGATE-PALMOLIVE</td>\n",
       "      <td>COLGATE</td>\n",
       "      <td>3.500047e+10</td>\n",
       "    </tr>\n",
       "    <tr>\n",
       "      <th>4</th>\n",
       "      <td>Health &amp; Wellness</td>\n",
       "      <td>Medicines &amp; Treatments</td>\n",
       "      <td>Essential Oils</td>\n",
       "      <td>NaN</td>\n",
       "      <td>MAPLE HOLISTICS AND HONEYDEW PRODUCTS INTERCHA...</td>\n",
       "      <td>MAPLE HOLISTICS</td>\n",
       "      <td>8.068109e+11</td>\n",
       "    </tr>\n",
       "  </tbody>\n",
       "</table>\n",
       "</div>"
      ],
      "text/plain": [
       "          CATEGORY_1              CATEGORY_2                   CATEGORY_3  \\\n",
       "0  Health & Wellness           Sexual Health  Conductivity Gels & Lotions   \n",
       "1             Snacks           Puffed Snacks         Cheese Curls & Puffs   \n",
       "2  Health & Wellness               Hair Care        Hair Care Accessories   \n",
       "3  Health & Wellness               Oral Care                   Toothpaste   \n",
       "4  Health & Wellness  Medicines & Treatments               Essential Oils   \n",
       "\n",
       "  CATEGORY_4                                       MANUFACTURER  \\\n",
       "0        NaN                                                NaN   \n",
       "1        NaN                                                NaN   \n",
       "2        NaN                           PLACEHOLDER MANUFACTURER   \n",
       "3        NaN                                  COLGATE-PALMOLIVE   \n",
       "4        NaN  MAPLE HOLISTICS AND HONEYDEW PRODUCTS INTERCHA...   \n",
       "\n",
       "             BRAND       BARCODE  \n",
       "0              NaN  7.964944e+11  \n",
       "1              NaN  2.327801e+10  \n",
       "2          ELECSOP  4.618178e+11  \n",
       "3          COLGATE  3.500047e+10  \n",
       "4  MAPLE HOLISTICS  8.068109e+11  "
      ]
     },
     "execution_count": 19,
     "metadata": {},
     "output_type": "execute_result"
    }
   ],
   "source": [
    "# Quick look of Product data\n",
    "Product.head()"
   ]
  },
  {
   "cell_type": "code",
   "execution_count": 20,
   "metadata": {},
   "outputs": [
    {
     "name": "stdout",
     "output_type": "stream",
     "text": [
      "<class 'pandas.core.frame.DataFrame'>\n",
      "RangeIndex: 845552 entries, 0 to 845551\n",
      "Data columns (total 7 columns):\n",
      " #   Column        Non-Null Count   Dtype  \n",
      "---  ------        --------------   -----  \n",
      " 0   CATEGORY_1    845441 non-null  object \n",
      " 1   CATEGORY_2    844128 non-null  object \n",
      " 2   CATEGORY_3    784986 non-null  object \n",
      " 3   CATEGORY_4    67459 non-null   object \n",
      " 4   MANUFACTURER  619078 non-null  object \n",
      " 5   BRAND         619080 non-null  object \n",
      " 6   BARCODE       841527 non-null  float64\n",
      "dtypes: float64(1), object(6)\n",
      "memory usage: 45.2+ MB\n"
     ]
    }
   ],
   "source": [
    "# Check the data type and non-null values\n",
    "Product.info()\n",
    "# Missing values show in (CATEGORY_3, CATEGORY_4, MANUFACTURER, BRAND)"
   ]
  },
  {
   "cell_type": "code",
   "execution_count": 21,
   "metadata": {},
   "outputs": [
    {
     "name": "stdout",
     "output_type": "stream",
     "text": [
      "If all of the duplicates rows in Product_copy are dropped: True\n",
      "<class 'pandas.core.frame.DataFrame'>\n",
      "Index: 845337 entries, 0 to 845551\n",
      "Data columns (total 7 columns):\n",
      " #   Column        Non-Null Count   Dtype  \n",
      "---  ------        --------------   -----  \n",
      " 0   CATEGORY_1    845226 non-null  object \n",
      " 1   CATEGORY_2    843915 non-null  object \n",
      " 2   CATEGORY_3    784774 non-null  object \n",
      " 3   CATEGORY_4    67453 non-null   object \n",
      " 4   MANUFACTURER  618873 non-null  object \n",
      " 5   BRAND         618875 non-null  object \n",
      " 6   BARCODE       841369 non-null  float64\n",
      "dtypes: float64(1), object(6)\n",
      "memory usage: 51.6+ MB\n"
     ]
    }
   ],
   "source": [
    "# Create a copy for Product\n",
    "Product_copy = Product.copy()\n",
    "\n",
    "# Check if Product have duplicate\n",
    "Product_copy.duplicated().sum() # There are 215 Product infomation is duplicated\n",
    "\n",
    "# Drop duplicate rows\n",
    "Product_copy = Product_copy.drop_duplicates()\n",
    "print(f'If all of the duplicates rows in Product_copy are dropped: {Product_copy.duplicated().sum() == 0}')\n",
    "\n",
    "# Take a look\n",
    "Product_copy.info()"
   ]
  },
  {
   "cell_type": "code",
   "execution_count": 22,
   "metadata": {},
   "outputs": [
    {
     "name": "stdout",
     "output_type": "stream",
     "text": [
      "<class 'pandas.core.frame.DataFrame'>\n",
      "Index: 845337 entries, 0 to 845551\n",
      "Data columns (total 7 columns):\n",
      " #   Column        Non-Null Count   Dtype  \n",
      "---  ------        --------------   -----  \n",
      " 0   CATEGORY_1    845226 non-null  object \n",
      " 1   CATEGORY_2    843915 non-null  object \n",
      " 2   CATEGORY_3    784774 non-null  object \n",
      " 3   CATEGORY_4    67453 non-null   object \n",
      " 4   MANUFACTURER  618873 non-null  object \n",
      " 5   BRAND         845337 non-null  object \n",
      " 6   BARCODE       841369 non-null  float64\n",
      "dtypes: float64(1), object(6)\n",
      "memory usage: 51.6+ MB\n"
     ]
    }
   ],
   "source": [
    "# Fill the null values in 'BRAND' with 'unknown'\n",
    "Product_copy['BRAND'] = Product_copy['BRAND'].fillna('unknown')\n",
    "Product_copy.info()\n",
    "\n",
    "# Create Product_2, which filter out the missing values from BARCODE\n",
    "Product_2 = Product_copy[Product_copy['BARCODE'].isnull() == False]"
   ]
  },
  {
   "cell_type": "code",
   "execution_count": 23,
   "metadata": {},
   "outputs": [
    {
     "name": "stdout",
     "output_type": "stream",
     "text": [
      "There are 1113 brands have products in different categories\n"
     ]
    }
   ],
   "source": [
    "# Product: BRAND\n",
    "# Check if brand name in Product dataset have integrity issues\n",
    "# Group by 'BRAND' and calculate the number of unique 'CATEGORY_1' values\n",
    "count_category_1_by_brand = Product_2.groupby('BRAND')['CATEGORY_1'].nunique()\n",
    "\n",
    "# Convert the Series to a DataFrame, rename the column, sort values, and reset index\n",
    "count_category_1_by_brand = count_category_1_by_brand.reset_index(name='count_category_1').sort_values('count_category_1', ascending=False)\n",
    "\n",
    "# Create a new dataframe to save the brands which have multiple categories\n",
    "brand_have_multiple_category = count_category_1_by_brand[count_category_1_by_brand['count_category_1'] != 1]\n",
    "\n",
    "# Check how many brand have different categories of products\n",
    "print(f'There are {len(brand_have_multiple_category)} brands have products in different categories')"
   ]
  },
  {
   "cell_type": "code",
   "execution_count": 24,
   "metadata": {},
   "outputs": [
    {
     "name": "stdout",
     "output_type": "stream",
     "text": [
      "['Health & Wellness' 'Snacks']\n",
      "             CATEGORY_1   CATEGORY_2              CATEGORY_3 CATEGORY_4  \\\n",
      "77    Health & Wellness  Bath & Body    Hand Sanitizer Wipes        NaN   \n",
      "93    Health & Wellness  Bath & Body  Bath Sponges & Loofahs        NaN   \n",
      "201   Health & Wellness    Hair Care             Conditioner        NaN   \n",
      "417   Health & Wellness    Hair Care             Conditioner        NaN   \n",
      "1114  Health & Wellness    Hair Care             Conditioner        NaN   \n",
      "\n",
      "     MANUFACTURER BRAND       BARCODE  \n",
      "77       UNILEVER  DOVE  7.076382e+11  \n",
      "93       UNILEVER  DOVE  1.004127e+11  \n",
      "201      UNILEVER  DOVE  7.940048e+10  \n",
      "417      UNILEVER  DOVE  7.940045e+10  \n",
      "1114     UNILEVER  DOVE  5.455343e+11  \n",
      "====================================================================================================\n",
      "      CATEGORY_1 CATEGORY_2       CATEGORY_3 CATEGORY_4 MANUFACTURER BRAND  \\\n",
      "5323      Snacks      Candy  Chocolate Candy        NaN     UNILEVER  DOVE   \n",
      "41308     Snacks      Candy  Chocolate Candy        NaN     UNILEVER  DOVE   \n",
      "56111     Snacks      Candy  Chocolate Candy        NaN     UNILEVER  DOVE   \n",
      "62632     Snacks      Candy  Chocolate Candy        NaN     UNILEVER  DOVE   \n",
      "62944     Snacks      Candy  Chocolate Candy        NaN     UNILEVER  DOVE   \n",
      "\n",
      "            BARCODE  \n",
      "5323   7.007055e+11  \n",
      "41308  7.007131e+11  \n",
      "56111  4.000049e+10  \n",
      "62632  1.004127e+11  \n",
      "62944  4.000052e+11  \n"
     ]
    }
   ],
   "source": [
    "# While it is possible that the same brand have products in different categories\n",
    "# Here I would like just use one example to show it is also possible that the same brand name actually show different company, which might cause some misunderstanding\n",
    "\n",
    "# Check if products whose brand are 'DOVE' are from the same brand\n",
    "print(Product_2['CATEGORY_1'][Product_2['BRAND'] == 'DOVE'].unique())\n",
    "\n",
    "# Further check the product details\n",
    "# Check what kind of Dove's products in 'Health & Wellness' caegory\n",
    "print(Product_2[(Product_2['BRAND'] == 'DOVE') & (Product_2['CATEGORY_1'] == 'Health & Wellness')].head())\n",
    "\n",
    "print('='*100)\n",
    "# Check what kind of Dove's products in 'Snacks' caegory\n",
    "print(Product_2[(Product_2['BRAND'] == 'DOVE') & (Product_2['CATEGORY_1'] == 'Snacks')].head())\n",
    "\n",
    "# It turned out products whose brand name are 'DOVE' in different categories indicate different company. \n",
    "# This kind of integrity issues can possibly cause data integrity issues if we do not know that the same brand name can indicate different companies"
   ]
  },
  {
   "cell_type": "code",
   "execution_count": 25,
   "metadata": {},
   "outputs": [
    {
     "data": {
      "text/html": [
       "<div>\n",
       "<style scoped>\n",
       "    .dataframe tbody tr th:only-of-type {\n",
       "        vertical-align: middle;\n",
       "    }\n",
       "\n",
       "    .dataframe tbody tr th {\n",
       "        vertical-align: top;\n",
       "    }\n",
       "\n",
       "    .dataframe thead th {\n",
       "        text-align: right;\n",
       "    }\n",
       "</style>\n",
       "<table border=\"1\" class=\"dataframe\">\n",
       "  <thead>\n",
       "    <tr style=\"text-align: right;\">\n",
       "      <th></th>\n",
       "      <th>CATEGORY_1</th>\n",
       "      <th>CATEGORY_2</th>\n",
       "      <th>CATEGORY_3</th>\n",
       "      <th>CATEGORY_4</th>\n",
       "      <th>Distinct Count</th>\n",
       "    </tr>\n",
       "  </thead>\n",
       "  <tbody>\n",
       "    <tr>\n",
       "      <th>82</th>\n",
       "      <td>Health &amp; Wellness</td>\n",
       "      <td>Skin Care</td>\n",
       "      <td>Lip Balms &amp; Treatments</td>\n",
       "      <td>Lip Balms</td>\n",
       "      <td>9712</td>\n",
       "    </tr>\n",
       "    <tr>\n",
       "      <th>122</th>\n",
       "      <td>Snacks</td>\n",
       "      <td>Puffed Snacks</td>\n",
       "      <td>Popcorn</td>\n",
       "      <td>Already Popped Popcorn</td>\n",
       "      <td>6956</td>\n",
       "    </tr>\n",
       "    <tr>\n",
       "      <th>80</th>\n",
       "      <td>Health &amp; Wellness</td>\n",
       "      <td>Medicines &amp; Treatments</td>\n",
       "      <td>Sleeping &amp; Snoring</td>\n",
       "      <td>Sleep Aids</td>\n",
       "      <td>4968</td>\n",
       "    </tr>\n",
       "    <tr>\n",
       "      <th>58</th>\n",
       "      <td>Health &amp; Wellness</td>\n",
       "      <td>Hair Care</td>\n",
       "      <td>Hair Tools</td>\n",
       "      <td>Hair Brushes &amp; Combs</td>\n",
       "      <td>4720</td>\n",
       "    </tr>\n",
       "    <tr>\n",
       "      <th>66</th>\n",
       "      <td>Health &amp; Wellness</td>\n",
       "      <td>Hair Removal</td>\n",
       "      <td>Shaving Gel &amp; Cream</td>\n",
       "      <td>Women's Shaving Gel &amp; Cream</td>\n",
       "      <td>3871</td>\n",
       "    </tr>\n",
       "    <tr>\n",
       "      <th>62</th>\n",
       "      <td>Health &amp; Wellness</td>\n",
       "      <td>Hair Removal</td>\n",
       "      <td>Razors</td>\n",
       "      <td>Men's Razors</td>\n",
       "      <td>2833</td>\n",
       "    </tr>\n",
       "    <tr>\n",
       "      <th>76</th>\n",
       "      <td>Health &amp; Wellness</td>\n",
       "      <td>Medicines &amp; Treatments</td>\n",
       "      <td>Digestive Health Medicines &amp; Treatments</td>\n",
       "      <td>Heartburn &amp; Antacids Medicines &amp; Treatments</td>\n",
       "      <td>2747</td>\n",
       "    </tr>\n",
       "    <tr>\n",
       "      <th>74</th>\n",
       "      <td>Health &amp; Wellness</td>\n",
       "      <td>Medicines &amp; Treatments</td>\n",
       "      <td>Digestive Health Medicines &amp; Treatments</td>\n",
       "      <td>Constipation Relief Medicines &amp; Treatments</td>\n",
       "      <td>2733</td>\n",
       "    </tr>\n",
       "    <tr>\n",
       "      <th>70</th>\n",
       "      <td>Health &amp; Wellness</td>\n",
       "      <td>Medicines &amp; Treatments</td>\n",
       "      <td>Cough &amp; Cold Medicines &amp; Treatments</td>\n",
       "      <td>Immune Support</td>\n",
       "      <td>2675</td>\n",
       "    </tr>\n",
       "    <tr>\n",
       "      <th>123</th>\n",
       "      <td>Snacks</td>\n",
       "      <td>Puffed Snacks</td>\n",
       "      <td>Popcorn</td>\n",
       "      <td>Microwave Popcorn</td>\n",
       "      <td>2308</td>\n",
       "    </tr>\n",
       "  </tbody>\n",
       "</table>\n",
       "</div>"
      ],
      "text/plain": [
       "            CATEGORY_1              CATEGORY_2  \\\n",
       "82   Health & Wellness               Skin Care   \n",
       "122             Snacks           Puffed Snacks   \n",
       "80   Health & Wellness  Medicines & Treatments   \n",
       "58   Health & Wellness               Hair Care   \n",
       "66   Health & Wellness            Hair Removal   \n",
       "62   Health & Wellness            Hair Removal   \n",
       "76   Health & Wellness  Medicines & Treatments   \n",
       "74   Health & Wellness  Medicines & Treatments   \n",
       "70   Health & Wellness  Medicines & Treatments   \n",
       "123             Snacks           Puffed Snacks   \n",
       "\n",
       "                                  CATEGORY_3  \\\n",
       "82                    Lip Balms & Treatments   \n",
       "122                                  Popcorn   \n",
       "80                        Sleeping & Snoring   \n",
       "58                                Hair Tools   \n",
       "66                       Shaving Gel & Cream   \n",
       "62                                    Razors   \n",
       "76   Digestive Health Medicines & Treatments   \n",
       "74   Digestive Health Medicines & Treatments   \n",
       "70       Cough & Cold Medicines & Treatments   \n",
       "123                                  Popcorn   \n",
       "\n",
       "                                      CATEGORY_4  Distinct Count  \n",
       "82                                     Lip Balms            9712  \n",
       "122                       Already Popped Popcorn            6956  \n",
       "80                                    Sleep Aids            4968  \n",
       "58                          Hair Brushes & Combs            4720  \n",
       "66                   Women's Shaving Gel & Cream            3871  \n",
       "62                                  Men's Razors            2833  \n",
       "76   Heartburn & Antacids Medicines & Treatments            2747  \n",
       "74    Constipation Relief Medicines & Treatments            2733  \n",
       "70                                Immune Support            2675  \n",
       "123                            Microwave Popcorn            2308  "
      ]
     },
     "execution_count": 25,
     "metadata": {},
     "output_type": "execute_result"
    }
   ],
   "source": [
    "# Quick explore on the number of different kinds of products\n",
    "# Count the number of products based on their categories\n",
    "category_counts = Product_2.groupby(['CATEGORY_1', 'CATEGORY_2', 'CATEGORY_3', 'CATEGORY_4'])['BARCODE'].nunique()\\\n",
    "    .reset_index(name='Distinct Count').sort_values(by='Distinct Count', ascending=False)\n",
    "\n",
    "# Show the top 10 result\n",
    "category_counts.head(10)"
   ]
  },
  {
   "cell_type": "markdown",
   "metadata": {},
   "source": [
    "### 3 tables join to each other"
   ]
  },
  {
   "cell_type": "markdown",
   "metadata": {},
   "source": [
    "#### Data quality issues:\n",
    "1. Only 130 users match the Transaction dataset, indicating that most user information in the Transaction data is absent from the User dataset."
   ]
  },
  {
   "cell_type": "code",
   "execution_count": 26,
   "metadata": {},
   "outputs": [
    {
     "name": "stdout",
     "output_type": "stream",
     "text": [
      "<class 'pandas.core.frame.DataFrame'>\n",
      "RangeIndex: 130 entries, 0 to 129\n",
      "Data columns (total 15 columns):\n",
      " #   Column          Non-Null Count  Dtype              \n",
      "---  ------          --------------  -----              \n",
      " 0   RECEIPT_ID      130 non-null    object             \n",
      " 1   PURCHASE_DATE   130 non-null    datetime64[ns]     \n",
      " 2   SCAN_DATE       130 non-null    datetime64[ns, UTC]\n",
      " 3   STORE_NAME      130 non-null    object             \n",
      " 4   USER_ID         130 non-null    object             \n",
      " 5   BARCODE         119 non-null    float64            \n",
      " 6   FINAL_QUANTITY  130 non-null    object             \n",
      " 7   FINAL_SALE      130 non-null    object             \n",
      " 8   ID              130 non-null    object             \n",
      " 9   CREATED_DATE    130 non-null    datetime64[ns, UTC]\n",
      " 10  BIRTH_DATE      129 non-null    datetime64[ns, UTC]\n",
      " 11  STATE           130 non-null    object             \n",
      " 12  LANGUAGE        130 non-null    object             \n",
      " 13  GENDER          130 non-null    object             \n",
      " 14  AGE             129 non-null    float64            \n",
      "dtypes: datetime64[ns, UTC](3), datetime64[ns](1), float64(2), object(9)\n",
      "memory usage: 15.4+ KB\n"
     ]
    }
   ],
   "source": [
    "# Transaction & User\n",
    "Transaction_User = pd.merge(Transaction_2, User_copy, left_on='USER_ID', right_on='ID')\n",
    "Transaction_User.info()\n",
    "# There are 100000 entries in User dataset, but merge with Transaction dataset, there are only 130 entries are matching.\n",
    "# It implies that most of the user information in Transaction dataset is not provided in User dataset."
   ]
  },
  {
   "cell_type": "code",
   "execution_count": 27,
   "metadata": {},
   "outputs": [
    {
     "name": "stdout",
     "output_type": "stream",
     "text": [
      "<class 'pandas.core.frame.DataFrame'>\n",
      "RangeIndex: 24540 entries, 0 to 24539\n",
      "Data columns (total 14 columns):\n",
      " #   Column          Non-Null Count  Dtype              \n",
      "---  ------          --------------  -----              \n",
      " 0   RECEIPT_ID      24540 non-null  object             \n",
      " 1   PURCHASE_DATE   24540 non-null  datetime64[ns]     \n",
      " 2   SCAN_DATE       24540 non-null  datetime64[ns, UTC]\n",
      " 3   STORE_NAME      24540 non-null  object             \n",
      " 4   USER_ID         24540 non-null  object             \n",
      " 5   BARCODE         21884 non-null  float64            \n",
      " 6   FINAL_QUANTITY  24540 non-null  object             \n",
      " 7   FINAL_SALE      24540 non-null  object             \n",
      " 8   CATEGORY_1      11934 non-null  object             \n",
      " 9   CATEGORY_2      11922 non-null  object             \n",
      " 10  CATEGORY_3      10972 non-null  object             \n",
      " 11  CATEGORY_4      1480 non-null   object             \n",
      " 12  MANUFACTURER    11912 non-null  object             \n",
      " 13  BRAND           12277 non-null  object             \n",
      "dtypes: datetime64[ns, UTC](1), datetime64[ns](1), float64(1), object(11)\n",
      "memory usage: 2.6+ MB\n"
     ]
    }
   ],
   "source": [
    "# Transaction & Product\n",
    "# Merge two data sets\n",
    "Transaction_Product = pd.merge(Transaction_2, Product_2, how='left', on='BARCODE')\n",
    "Transaction_Product.info()"
   ]
  },
  {
   "cell_type": "code",
   "execution_count": 28,
   "metadata": {},
   "outputs": [
    {
     "name": "stdout",
     "output_type": "stream",
     "text": [
      "<class 'pandas.core.frame.DataFrame'>\n",
      "RangeIndex: 130 entries, 0 to 129\n",
      "Data columns (total 20 columns):\n",
      " #   Column          Non-Null Count  Dtype              \n",
      "---  ------          --------------  -----              \n",
      " 0   RECEIPT_ID      130 non-null    object             \n",
      " 1   PURCHASE_DATE   130 non-null    datetime64[ns]     \n",
      " 2   SCAN_DATE       130 non-null    datetime64[ns, UTC]\n",
      " 3   STORE_NAME      130 non-null    object             \n",
      " 4   USER_ID         130 non-null    object             \n",
      " 5   BARCODE         119 non-null    float64            \n",
      " 6   FINAL_QUANTITY  130 non-null    object             \n",
      " 7   FINAL_SALE      130 non-null    object             \n",
      " 8   CATEGORY_1      72 non-null     object             \n",
      " 9   CATEGORY_2      72 non-null     object             \n",
      " 10  CATEGORY_3      66 non-null     object             \n",
      " 11  CATEGORY_4      7 non-null      object             \n",
      " 12  MANUFACTURER    69 non-null     object             \n",
      " 13  BRAND           72 non-null     object             \n",
      " 14  ID              130 non-null    object             \n",
      " 15  CREATED_DATE    130 non-null    object             \n",
      " 16  BIRTH_DATE      129 non-null    object             \n",
      " 17  STATE           130 non-null    object             \n",
      " 18  LANGUAGE        130 non-null    object             \n",
      " 19  GENDER          129 non-null    object             \n",
      "dtypes: datetime64[ns, UTC](1), datetime64[ns](1), float64(1), object(17)\n",
      "memory usage: 20.4+ KB\n"
     ]
    }
   ],
   "source": [
    "# Transaction & Product & User\n",
    "Transaction_Product_User = pd.merge(Transaction_Product, User, left_on='USER_ID', right_on='ID')\n",
    "Transaction_Product_User.info()"
   ]
  },
  {
   "cell_type": "markdown",
   "metadata": {},
   "source": [
    "# Second: provide SQL queries\n",
    "In this section, I will use Spark sql and the data cleaned in section 1 to answer the following three questions.\n",
    "\n",
    "* Closed-ended questions:\n",
    "    - What are the top 5 brands by receipts scanned among users 21 and over?\n",
    "    - What is the percentage of sales in the Health & Wellness category by generation?\n",
    "* Open-ended questions: for these, make assumptions and clearly state them when answering the question.\n",
    "    - Which is the leading brand in the Dips & Salsa category?"
   ]
  },
  {
   "cell_type": "markdown",
   "metadata": {},
   "source": [
    "## pyspark.sql setting"
   ]
  },
  {
   "cell_type": "code",
   "execution_count": 29,
   "metadata": {},
   "outputs": [],
   "source": [
    "# import pyspark and pyspark.sql\n",
    "import pyspark\n",
    "from pyspark.sql import SparkSession"
   ]
  },
  {
   "cell_type": "code",
   "execution_count": 30,
   "metadata": {},
   "outputs": [
    {
     "name": "stderr",
     "output_type": "stream",
     "text": [
      "Setting default log level to \"WARN\".\n",
      "To adjust logging level use sc.setLogLevel(newLevel). For SparkR, use setLogLevel(newLevel).\n",
      "24/10/31 22:52:44 WARN NativeCodeLoader: Unable to load native-hadoop library for your platform... using builtin-java classes where applicable\n"
     ]
    },
    {
     "name": "stdout",
     "output_type": "stream",
     "text": [
      "Spark session created: <pyspark.sql.session.SparkSession object at 0x118c1a9d0>\n"
     ]
    }
   ],
   "source": [
    "# Create a Spark session with name as 'Fetch_take_home_assessment'\n",
    "spark = SparkSession.builder \\\n",
    "    .appName('Fetch_take_home_assessment') \\\n",
    "    .getOrCreate()\n",
    "\n",
    "# Confirm the Spark session is created\n",
    "print('Spark session created:', spark)"
   ]
  },
  {
   "cell_type": "markdown",
   "metadata": {},
   "source": [
    "## Data Loading\n",
    "* Convert the pandas dataframe to a spark dataframe"
   ]
  },
  {
   "cell_type": "code",
   "execution_count": 31,
   "metadata": {},
   "outputs": [
    {
     "name": "stderr",
     "output_type": "stream",
     "text": [
      "                                                                                \r"
     ]
    },
    {
     "name": "stdout",
     "output_type": "stream",
     "text": [
      "+--------------------+--------------------+--------------------+-----+--------+------+\n",
      "|                  ID|        CREATED_DATE|          BIRTH_DATE|STATE|LANGUAGE|GENDER|\n",
      "+--------------------+--------------------+--------------------+-----+--------+------+\n",
      "|5ef3b4f17053ab141...|2020-06-24 20:17:...|2000-08-11 00:00:...|   CA|  es-419|female|\n",
      "|5ff220d383fcfc126...|2021-01-03 19:53:...|2001-09-24 04:00:...|   PA|      en|female|\n",
      "|6477950aa55bb77a0...|2023-05-31 18:42:...|1994-10-28 00:00:...|   FL|  es-419|female|\n",
      "|658a306e99b40f103...|2023-12-26 01:46:...|                 NaN|   NC|      en|   NaN|\n",
      "|653cf5d6a225ea102...|2023-10-28 11:51:...|1972-03-19 00:00:...|   PA|      en|female|\n",
      "+--------------------+--------------------+--------------------+-----+--------+------+\n",
      "\n"
     ]
    }
   ],
   "source": [
    "# User\n",
    "User_spark = spark.createDataFrame(User) \n",
    "User_spark.createOrReplaceTempView('User')\n",
    "\n",
    "# Quick look for User in spark\n",
    "spark.sql('''SELECT * \n",
    "          FROM User\n",
    "          LIMIT 5''').show()"
   ]
  },
  {
   "cell_type": "code",
   "execution_count": 32,
   "metadata": {},
   "outputs": [
    {
     "name": "stdout",
     "output_type": "stream",
     "text": [
      "+--------------------+-------------------+--------------------+--------------------+--------------------+----------------+--------------+----------+\n",
      "|          RECEIPT_ID|      PURCHASE_DATE|           SCAN_DATE|          STORE_NAME|             USER_ID|         BARCODE|FINAL_QUANTITY|FINAL_SALE|\n",
      "+--------------------+-------------------+--------------------+--------------------+--------------------+----------------+--------------+----------+\n",
      "|7b3ec72d-9d30-40b...|2024-08-20 00:00:00|2024-08-20 07:17:...|DOLLAR GENERAL STORE|60fc1e6deb7585430...|7.45527114884E11|          1.00|      1.65|\n",
      "|04869b68-29e3-4e8...|2024-08-05 00:00:00|2024-08-09 12:06:...|DOLLAR GENERAL STORE|654cf234a225ea102...|7.45527114884E11|          1.00|      1.65|\n",
      "|f1a96308-24a5-46a...|2024-09-03 00:00:00|2024-09-03 07:28:...|             WALMART|63c1cb6d3d310dcee...| 3.7000828761E10|          1.00|     28.22|\n",
      "|7ee1798e-fd2e-427...|2024-08-30 00:00:00|2024-09-04 08:53:...|DOLLAR GENERAL STORE|65c29b137050d0a62...| 1.2000504051E10|          1.00|      5.25|\n",
      "|21feab39-49f2-42e...|2024-08-23 00:00:00|2024-08-27 06:45:...|              TARGET|61a58ac49c135b462...| 2.4000393429E10|          1.00|      2.59|\n",
      "+--------------------+-------------------+--------------------+--------------------+--------------------+----------------+--------------+----------+\n",
      "\n"
     ]
    }
   ],
   "source": [
    "# Transaction_2: \n",
    "# drop the duplicates, filter out ('FINAL_QUANTITY' = 'zero') and ()'FINAL_SALE' = ' ' or '0.00') from original 'Transaction' dataset\n",
    "Transaction_spark = spark.createDataFrame(Transaction_2) \n",
    "Transaction_spark.createOrReplaceTempView('Transaction_2')\n",
    "\n",
    "# Quick look for Transaction_2 in spark\n",
    "spark.sql('''SELECT * \n",
    "          FROM Transaction_2\n",
    "          LIMIT 5''').show()"
   ]
  },
  {
   "cell_type": "code",
   "execution_count": 33,
   "metadata": {},
   "outputs": [
    {
     "name": "stderr",
     "output_type": "stream",
     "text": [
      "24/10/31 22:53:05 WARN TaskSetManager: Stage 2 contains a task of very large size (3854 KiB). The maximum recommended task size is 1000 KiB.\n",
      "[Stage 2:>                                                          (0 + 1) / 1]\r"
     ]
    },
    {
     "name": "stdout",
     "output_type": "stream",
     "text": [
      "+-----------------+--------------------+--------------------+----------+--------------------+---------------+----------------+\n",
      "|       CATEGORY_1|          CATEGORY_2|          CATEGORY_3|CATEGORY_4|        MANUFACTURER|          BRAND|         BARCODE|\n",
      "+-----------------+--------------------+--------------------+----------+--------------------+---------------+----------------+\n",
      "|Health & Wellness|       Sexual Health|Conductivity Gels...|       NaN|                 NaN|        unknown| 7.9649440782E11|\n",
      "|           Snacks|       Puffed Snacks|Cheese Curls & Puffs|       NaN|                 NaN|        unknown| 2.3278011028E10|\n",
      "|Health & Wellness|           Hair Care|Hair Care Accesso...|       NaN|PLACEHOLDER MANUF...|        ELECSOP|4.61817824225E11|\n",
      "|Health & Wellness|           Oral Care|          Toothpaste|       NaN|   COLGATE-PALMOLIVE|        COLGATE| 3.5000466815E10|\n",
      "|Health & Wellness|Medicines & Treat...|      Essential Oils|       NaN|MAPLE HOLISTICS A...|MAPLE HOLISTICS|8.06810850459E11|\n",
      "+-----------------+--------------------+--------------------+----------+--------------------+---------------+----------------+\n",
      "\n"
     ]
    },
    {
     "name": "stderr",
     "output_type": "stream",
     "text": [
      "24/10/31 22:53:09 WARN PythonRunner: Detected deadlock while completing task 0.0 in stage 2 (TID 2): Attempting to kill Python Worker\n",
      "                                                                                \r"
     ]
    }
   ],
   "source": [
    "# Product_2:\n",
    "# drop duplicates, filled missing value in 'BRAND' with 'unknown'\n",
    "Product_spark = spark.createDataFrame(Product_2)\n",
    "Product_spark.createOrReplaceTempView('Product_2')\n",
    "\n",
    "# Quick look for Product_2 in spark\n",
    "spark.sql('''SELECT * \n",
    "          FROM Product_2\n",
    "          LIMIT 5''').show()"
   ]
  },
  {
   "cell_type": "markdown",
   "metadata": {},
   "source": [
    "### Closed-ended questions"
   ]
  },
  {
   "cell_type": "markdown",
   "metadata": {},
   "source": [
    "#### What are the top 5 brands by receipts scanned among users 21 and over?\n",
    "* There are some brands have the same number of receipt scanned\n",
    "* NERDS CANDY, DOVE, COCA-COLA, MEIJER, TRIDENT, GREAT VALUE, SOUR PATCH KIDS, HERSHEY'S"
   ]
  },
  {
   "cell_type": "code",
   "execution_count": 34,
   "metadata": {},
   "outputs": [
    {
     "name": "stderr",
     "output_type": "stream",
     "text": [
      "24/10/31 22:53:10 WARN WindowExec: No Partition Defined for Window operation! Moving all data to a single partition, this can cause serious performance degradation.\n",
      "24/10/31 22:53:10 WARN WindowExec: No Partition Defined for Window operation! Moving all data to a single partition, this can cause serious performance degradation.\n",
      "24/10/31 22:53:10 WARN WindowExec: No Partition Defined for Window operation! Moving all data to a single partition, this can cause serious performance degradation.\n",
      "24/10/31 22:53:10 WARN WindowExec: No Partition Defined for Window operation! Moving all data to a single partition, this can cause serious performance degradation.\n",
      "24/10/31 22:53:10 WARN WindowExec: No Partition Defined for Window operation! Moving all data to a single partition, this can cause serious performance degradation.\n",
      "24/10/31 22:53:10 WARN TaskSetManager: Stage 5 contains a task of very large size (3853 KiB). The maximum recommended task size is 1000 KiB.\n",
      "24/10/31 22:53:10 WARN WindowExec: No Partition Defined for Window operation! Moving all data to a single partition, this can cause serious performance degradation.\n",
      "24/10/31 22:53:10 WARN WindowExec: No Partition Defined for Window operation! Moving all data to a single partition, this can cause serious performance degradation.\n",
      "24/10/31 22:53:11 WARN WindowExec: No Partition Defined for Window operation! Moving all data to a single partition, this can cause serious performance degradation.\n",
      "24/10/31 22:53:11 WARN WindowExec: No Partition Defined for Window operation! Moving all data to a single partition, this can cause serious performance degradation.\n",
      "24/10/31 22:53:11 WARN WindowExec: No Partition Defined for Window operation! Moving all data to a single partition, this can cause serious performance degradation.\n",
      "24/10/31 22:53:11 WARN WindowExec: No Partition Defined for Window operation! Moving all data to a single partition, this can cause serious performance degradation.\n",
      "24/10/31 22:53:11 WARN WindowExec: No Partition Defined for Window operation! Moving all data to a single partition, this can cause serious performance degradation.\n",
      "24/10/31 22:53:11 WARN WindowExec: No Partition Defined for Window operation! Moving all data to a single partition, this can cause serious performance degradation.\n",
      "24/10/31 22:53:11 WARN WindowExec: No Partition Defined for Window operation! Moving all data to a single partition, this can cause serious performance degradation.\n",
      "24/10/31 22:53:11 WARN WindowExec: No Partition Defined for Window operation! Moving all data to a single partition, this can cause serious performance degradation.\n"
     ]
    },
    {
     "name": "stdout",
     "output_type": "stream",
     "text": [
      "+---------------+-----------------+----------+\n",
      "|          brand|count_of_receipts|brand_rank|\n",
      "+---------------+-----------------+----------+\n",
      "|    NERDS CANDY|                3|         1|\n",
      "|           DOVE|                3|         1|\n",
      "|      COCA-COLA|                2|         3|\n",
      "|         MEIJER|                2|         3|\n",
      "|        TRIDENT|                2|         3|\n",
      "|    GREAT VALUE|                2|         3|\n",
      "|SOUR PATCH KIDS|                2|         3|\n",
      "|      HERSHEY'S|                2|         3|\n",
      "+---------------+-----------------+----------+\n",
      "\n"
     ]
    },
    {
     "name": "stderr",
     "output_type": "stream",
     "text": [
      "24/10/31 22:53:11 WARN WindowExec: No Partition Defined for Window operation! Moving all data to a single partition, this can cause serious performance degradation.\n",
      "24/10/31 22:53:11 WARN WindowExec: No Partition Defined for Window operation! Moving all data to a single partition, this can cause serious performance degradation.\n",
      "24/10/31 22:53:11 WARN WindowExec: No Partition Defined for Window operation! Moving all data to a single partition, this can cause serious performance degradation.\n",
      "24/10/31 22:53:11 WARN WindowExec: No Partition Defined for Window operation! Moving all data to a single partition, this can cause serious performance degradation.\n",
      "24/10/31 22:53:11 WARN WindowExec: No Partition Defined for Window operation! Moving all data to a single partition, this can cause serious performance degradation.\n",
      "24/10/31 22:53:11 WARN WindowExec: No Partition Defined for Window operation! Moving all data to a single partition, this can cause serious performance degradation.\n"
     ]
    }
   ],
   "source": [
    "# What are the top 5 brands by receipts scanned among users 21 and over? \n",
    "spark.sql('''\n",
    "-- Select the Target_user who are 21 and over\n",
    "WITH Target_user AS (\n",
    "  SELECT \n",
    "    u1.id,\n",
    "    CAST(DATEDIFF(current_date(), u1.birth_date) / 365 AS INT) AS age\n",
    "  FROM \n",
    "    User u1\n",
    "  WHERE \n",
    "    CAST(DATEDIFF(current_date(), u1.birth_date) / 365 AS INT) >= 21\n",
    "), Ranked_Brands AS (\n",
    "  SELECT \n",
    "    p.brand,\n",
    "    COUNT(DISTINCT t.receipt_id) AS count_of_receipts,\n",
    "    RANK() OVER (ORDER BY COUNT(DISTINCT t.receipt_id) DESC) AS brand_rank\n",
    "  FROM \n",
    "    Transaction_2 t\n",
    "  INNER JOIN \n",
    "    Target_user tu ON t.user_id = tu.id\n",
    "  LEFT JOIN \n",
    "    Product_2 p ON t.barcode = p.barcode\n",
    "  WHERE \n",
    "    p.brand IS NOT NULL\n",
    "    AND p.brand <> 'unknown'\n",
    "  GROUP BY \n",
    "    p.brand\n",
    ")\n",
    "SELECT \n",
    "  brand,\n",
    "  count_of_receipts,\n",
    "  brand_rank\n",
    "FROM \n",
    "  Ranked_Brands\n",
    "WHERE \n",
    "  brand_rank <= 5\n",
    "ORDER BY \n",
    "  brand_rank;\n",
    "''').show()"
   ]
  },
  {
   "cell_type": "markdown",
   "metadata": {},
   "source": [
    "#### What is the percentage of sales in the Health & Wellness category by generation?"
   ]
  },
  {
   "cell_type": "code",
   "execution_count": 35,
   "metadata": {},
   "outputs": [
    {
     "name": "stderr",
     "output_type": "stream",
     "text": [
      "24/10/31 22:53:12 WARN TaskSetManager: Stage 28 contains a task of very large size (3853 KiB). The maximum recommended task size is 1000 KiB.\n",
      "                                                                                \r"
     ]
    },
    {
     "name": "stdout",
     "output_type": "stream",
     "text": [
      "+-------------------+----------------+-----------+-------------------+\n",
      "|         generation|generation_sales|total_sales|percentage_of_sales|\n",
      "+-------------------+----------------+-----------+-------------------+\n",
      "|     Boomers (60up)|           84.09|     159.54|             52.71%|\n",
      "|      Gen X (44~60)|           40.28|     159.54|             25.25%|\n",
      "|Millennials (28~44)|           35.17|     159.54|             22.04%|\n",
      "+-------------------+----------------+-----------+-------------------+\n",
      "\n"
     ]
    }
   ],
   "source": [
    "# What is the percentage of sales in the Health & Wellness category by generation?\n",
    "# Generation and age reference: https://www.beresfordresearch.com/age-range-by-generation/\n",
    "spark.sql('''\n",
    "-- Calculate users' age and categorize into generations\n",
    "WITH Generation_group AS (\n",
    "  SELECT \n",
    "    u.id,\n",
    "    CASE\n",
    "      WHEN u.age >= 12 AND u.age < 28 THEN 'Gen Z (12~28)'\n",
    "      WHEN u.age >= 28 AND u.age < 44 THEN 'Millennials (28~44)'\n",
    "      WHEN u.age >= 44 AND u.age < 60 THEN 'Gen X (44~60)'\n",
    "      WHEN u.age >= 60 THEN 'Boomers (60up)'\n",
    "    END AS generation\n",
    "  FROM (\n",
    "    SELECT \n",
    "      id,\n",
    "      CAST(DATEDIFF(current_date(), birth_date) / 365 AS INT) AS age\n",
    "    FROM User\n",
    "  ) u\n",
    "), \n",
    "-- Select products' barcode in Health & Wellness category_1\n",
    "Product_in_Health_Wellness AS (\n",
    "  SELECT p1.barcode\n",
    "  FROM Product_2 p1\n",
    "  WHERE p1.category_1 = 'Health & Wellness'\n",
    "),\n",
    "-- Join transactions with relevant products to filter only Health & Wellness sales and calculate sales by generation\n",
    "Sales_by_Generation AS (\n",
    "  SELECT \n",
    "    gg.generation,\n",
    "    ROUND(SUM(t.FINAL_SALE), 2) AS generation_sales\n",
    "  FROM Transaction_2 t\n",
    "  INNER JOIN Product_in_Health_Wellness p ON t.barcode = p.barcode\n",
    "  INNER JOIN Generation_group gg ON t.user_id = gg.id\n",
    "  GROUP BY gg.generation\n",
    ")\n",
    "-- Calculate total sales and the percentage of total sales by generation\n",
    "SELECT \n",
    "  generation,\n",
    "  generation_sales,\n",
    "  (SELECT ROUND(SUM(generation_sales), 2) FROM Sales_by_Generation) AS total_sales,\n",
    "  CONCAT(ROUND((generation_sales / (SELECT SUM(generation_sales) FROM Sales_by_Generation)) * 100, 2), '%') AS percentage_of_sales\n",
    "FROM \n",
    "  Sales_by_Generation\n",
    "ORDER BY \n",
    "  (generation_sales / (SELECT SUM(generation_sales) FROM Sales_by_Generation)) DESC\n",
    "''').show()"
   ]
  },
  {
   "cell_type": "markdown",
   "metadata": {},
   "source": [
    "### Open-ended questions\n",
    "*  for these, make assumptions and clearly state them when answering the question."
   ]
  },
  {
   "cell_type": "markdown",
   "metadata": {},
   "source": [
    "#### Which is the leading brand in the Dips & Salsa category?\n",
    "* For this question, I assume that a leading brand is defined as the one with the highest sales in the provided transaction dataset, covering the period from June 12, 2024, to September 8, 2024.\n",
    "* The reason I use multiple CTE here instead of using LIMIT 1 is because it is possible that multiple brands have the same sales which might all be maximum. If using LIMIT 1, then there might be some brands missing by that. That's why the queries here can ensure to avoid this kind of mistakes."
   ]
  },
  {
   "cell_type": "code",
   "execution_count": 36,
   "metadata": {},
   "outputs": [
    {
     "name": "stderr",
     "output_type": "stream",
     "text": [
      "24/10/31 22:53:14 WARN TaskSetManager: Stage 53 contains a task of very large size (3853 KiB). The maximum recommended task size is 1000 KiB.\n"
     ]
    },
    {
     "name": "stdout",
     "output_type": "stream",
     "text": [
      "+--------+----------+\n",
      "|   brand|total_sale|\n",
      "+--------+----------+\n",
      "|TOSTITOS|     181.3|\n",
      "+--------+----------+\n",
      "\n"
     ]
    }
   ],
   "source": [
    "# Which is the leading brand in the Dips & Salsa category?\n",
    "spark.sql('''\n",
    "-- Calculate the sales for each brand in 'Dip & Salsa' category\n",
    "WITH Dip_Salsa_sales AS (\n",
    "    SELECT \n",
    "        p.brand, \n",
    "        ROUND(SUM(t.FINAL_SALE), 2) AS total_sale\n",
    "    FROM \n",
    "        Transaction_2 t \n",
    "    LEFT JOIN \n",
    "        Product_2 p ON t.barcode = p.barcode\n",
    "    WHERE \n",
    "        p.category_2 = 'Dips & Salsa'\n",
    "        AND p.brand <> 'unknown'\n",
    "    GROUP BY \n",
    "        p.brand\n",
    "),\n",
    "-- Select the max sale from Dip_Salsa_sales\n",
    "Max_Sale AS (\n",
    "    SELECT \n",
    "        MAX(total_sale) AS max_sale\n",
    "    FROM \n",
    "        Dip_Salsa_sales\n",
    ")\n",
    "-- Select all brands with total sales equal to the maximum found total sales\n",
    "SELECT \n",
    "    d.brand,\n",
    "    d.total_sale\n",
    "FROM \n",
    "    Dip_Salsa_sales d, Max_Sale ms\n",
    "WHERE d.total_sale = ms.max_sale;\n",
    "''').show()"
   ]
  },
  {
   "cell_type": "markdown",
   "metadata": {},
   "source": [
    "# Third: communicate with stakeholders\n",
    "* In this section, I will share an interesting trend regarding \"DOVE,\" one brand in the Health & Wellness category.\n",
    "* Specifically, I noticed that Dove's total sales and average daily sales performed outstandingly in July. I would like to share this trend along with deeper findings about the products and request additional help to make this data more meaningful and uncover further insights.\n",
    "* I assume that the product lead (Adam) I am emailing serves as the bridge between Fetch and Dove. This product lead regularly reports on how users purchase Dove's products and how our offers support their sales and marketing goals. As we prepare to renew the contract with Dove next January, the primary purpose of this communication is to provide insights that will support the negotiation and foster our collaborative relationship with Dove.\n",
    "* The following queries illustrate the process for identifying the trend and gathering necessary data. For the complete email, please refer to \"Third: (Email) Communicate with Stakeholders.md.\""
   ]
  },
  {
   "cell_type": "code",
   "execution_count": 45,
   "metadata": {},
   "outputs": [
    {
     "name": "stderr",
     "output_type": "stream",
     "text": [
      "24/11/01 12:33:56 WARN TaskSetManager: Stage 141 contains a task of very large size (3853 KiB). The maximum recommended task size is 1000 KiB.\n"
     ]
    },
    {
     "name": "stdout",
     "output_type": "stream",
     "text": [
      "+-----+--------------+----------+--------------+\n",
      "|brand|purchase_month|total_sale|avg_daily_sale|\n",
      "+-----+--------------+----------+--------------+\n",
      "| DOVE|       2024-06|    269.28|         14.17|\n",
      "| DOVE|       2024-07|    548.72|         18.29|\n",
      "| DOVE|       2024-08|    236.02|          7.87|\n",
      "| DOVE|       2024-09|     62.36|           7.8|\n",
      "+-----+--------------+----------+--------------+\n",
      "\n"
     ]
    }
   ],
   "source": [
    "# Calculate the total sale and average daily sale for 'DOVE'(Health & Wellness) to see the trend\n",
    "spark.sql('''\n",
    "WITH Dove_sale AS (\n",
    "    SELECT \n",
    "        p.brand, \n",
    "        date_format(t.PURCHASE_DATE, 'yyyy-MM') AS purchase_month,\n",
    "        ROUND(SUM(t.FINAL_SALE), 2) AS total_sale\n",
    "    FROM \n",
    "        Transaction_2 t \n",
    "    LEFT JOIN \n",
    "        Product_2 p ON t.barcode = p.barcode\n",
    "    WHERE \n",
    "        p.category_1 = 'Health & Wellness'\n",
    "        AND p.brand = 'DOVE'\n",
    "    GROUP BY \n",
    "        p.brand, \n",
    "        date_format(t.purchase_date, 'yyyy-MM')\n",
    ")\n",
    "SELECT\n",
    "    ds.brand,\n",
    "    ds.purchase_month,\n",
    "    ds.total_sale,\n",
    "    CASE \n",
    "        WHEN ds.purchase_month = '2024-06' THEN ROUND(ds.total_sale / 19, 2) -- Since the transaction data is from June 12\n",
    "        WHEN ds.purchase_month = '2024-09' THEN ROUND(ds.total_sale / 8, 2) -- Since the transaction data is unitl Sep 08\n",
    "        ELSE ROUND(ds.total_sale / 30, 2)  -- For July & August\n",
    "    END AS avg_daily_sale\n",
    "FROM \n",
    "    Dove_sale ds\n",
    "ORDER BY \n",
    "    ds.purchase_month ASC;\n",
    "''').show()"
   ]
  },
  {
   "cell_type": "code",
   "execution_count": 38,
   "metadata": {},
   "outputs": [
    {
     "name": "stderr",
     "output_type": "stream",
     "text": [
      "24/10/31 22:53:15 WARN TaskSetManager: Stage 78 contains a task of very large size (3853 KiB). The maximum recommended task size is 1000 KiB.\n"
     ]
    },
    {
     "name": "stdout",
     "output_type": "stream",
     "text": [
      "+--------------------+--------------------+----------+--------------+----------+----------------+\n",
      "|          category_2|          category_3|category_4|purchase_month|total_sale|count_of_receipt|\n",
      "+--------------------+--------------------+----------+--------------+----------+----------------+\n",
      "|         Bath & Body|           Body Wash|       NaN|       2024-06|    141.18|              13|\n",
      "|Deodorant & Antip...|Women's Deodorant...|       NaN|       2024-06|     60.78|              10|\n",
      "|         Bath & Body|            Bar Soap|       NaN|       2024-06|     30.93|               6|\n",
      "|Deodorant & Antip...|                 NaN|       NaN|       2024-06|     11.98|               2|\n",
      "|           Hair Care|             Shampoo|       NaN|       2024-06|     11.96|               2|\n",
      "|         Bath & Body|            Bar Soap|       NaN|       2024-07|    234.51|              25|\n",
      "|         Bath & Body|           Body Wash|       NaN|       2024-07|    156.57|              18|\n",
      "|Deodorant & Antip...|Women's Deodorant...|       NaN|       2024-07|    111.22|              14|\n",
      "|           Hair Care|         Conditioner|       NaN|       2024-07|     15.77|               4|\n",
      "|           Hair Care|             Shampoo|       NaN|       2024-07|      9.87|               2|\n",
      "|         Bath & Body|            Bar Soap|       NaN|       2024-08|     79.62|               9|\n",
      "|         Bath & Body|           Body Wash|       NaN|       2024-08|     72.62|               8|\n",
      "|Deodorant & Antip...|Women's Deodorant...|       NaN|       2024-08|     47.37|               6|\n",
      "|           Hair Care|         Conditioner|       NaN|       2024-08|     21.94|               4|\n",
      "|Deodorant & Antip...|                 NaN|       NaN|       2024-09|     24.97|               3|\n",
      "|         Bath & Body|            Bar Soap|       NaN|       2024-09|      8.94|               2|\n",
      "+--------------------+--------------------+----------+--------------+----------+----------------+\n",
      "\n"
     ]
    }
   ],
   "source": [
    "# Check in each month, what are the popular products?\n",
    "spark.sql('''\n",
    "WITH Dove_sale_Category AS (\n",
    "    SELECT \n",
    "        p.category_2,\n",
    "        p.category_3,\n",
    "        p.category_4,\n",
    "        date_format(t.purchase_date, 'yyyy-MM') AS purchase_month,\n",
    "        ROUND(SUM(t.final_sale), 2) AS total_sale,\n",
    "        ROUND(COUNT(t.receipt_id), 2) AS count_of_receipt\n",
    "    FROM \n",
    "        Transaction_2 t \n",
    "    LEFT JOIN \n",
    "        Product_2 p ON t.barcode = p.barcode\n",
    "    WHERE \n",
    "        p.category_1 = 'Health & Wellness'\n",
    "        AND p.brand = 'DOVE'\n",
    "    GROUP BY \n",
    "        p.category_2, \n",
    "        p.category_3, \n",
    "        p.category_4, \n",
    "        date_format(t.purchase_date, 'yyyy-MM')\n",
    ")\n",
    "SELECT *\n",
    "FROM \n",
    "    Dove_sale_Category\n",
    "WHERE \n",
    "    count_of_Receipt > 1 -- Filter out those have 0 or only have 1 count of sale\n",
    "ORDER BY \n",
    "    purchase_month ASC, \n",
    "    count_of_receipt DESC,\n",
    "    total_sale DESC\n",
    "''').show(100)"
   ]
  },
  {
   "cell_type": "code",
   "execution_count": 56,
   "metadata": {},
   "outputs": [
    {
     "name": "stderr",
     "output_type": "stream",
     "text": [
      "24/11/01 13:50:23 WARN TaskSetManager: Stage 222 contains a task of very large size (3853 KiB). The maximum recommended task size is 1000 KiB.\n",
      "[Stage 222:==================================================>    (10 + 1) / 11]\r"
     ]
    },
    {
     "name": "stdout",
     "output_type": "stream",
     "text": [
      "+-----------+----------+----------+-------------+--------------+----------+-------------+\n",
      "| category_2|category_3|category_4|        brand|purchase_month|total_sale|count_of_sale|\n",
      "+-----------+----------+----------+-------------+--------------+----------+-------------+\n",
      "|Bath & Body| Body Wash|       NaN|         DOVE|       2024-06|    141.18|           13|\n",
      "|Bath & Body| Body Wash|       NaN|    OLD SPICE|       2024-06|     64.21|            9|\n",
      "|Bath & Body| Body Wash|       NaN|         OLAY|       2024-06|     31.85|            3|\n",
      "|Bath & Body| Body Wash|       NaN|     SOFTSOAP|       2024-06|     21.19|            4|\n",
      "|Bath & Body| Body Wash|       NaN|        NIVEA|       2024-06|     17.22|            4|\n",
      "|Bath & Body| Body Wash|       NaN|        SUAVE|       2024-06|      8.91|            3|\n",
      "|Bath & Body| Body Wash|       NaN|         DOVE|       2024-07|    156.57|           18|\n",
      "|Bath & Body| Body Wash|       NaN|         OLAY|       2024-07|     60.94|            5|\n",
      "|Bath & Body| Body Wash|       NaN|DOVE MEN+CARE|       2024-07|     45.78|            3|\n",
      "|Bath & Body| Body Wash|       NaN|       NATIVE|       2024-07|     32.93|            3|\n",
      "|Bath & Body| Body Wash|       NaN|    OLD SPICE|       2024-07|     29.43|            4|\n",
      "|Bath & Body| Body Wash|       NaN|          AXE|       2024-07|     24.99|            5|\n",
      "|Bath & Body| Body Wash|       NaN|        IVORY|       2024-07|     23.94|            4|\n",
      "|Bath & Body| Body Wash|       NaN|         DIAL|       2024-07|     22.62|            5|\n",
      "|Bath & Body| Body Wash|       NaN| IRISH SPRING|       2024-07|      17.9|            3|\n",
      "|Bath & Body| Body Wash|       NaN|        SUAVE|       2024-07|     16.44|            4|\n",
      "|Bath & Body| Body Wash|       NaN|         DOVE|       2024-08|     72.62|            8|\n",
      "|Bath & Body| Body Wash|       NaN|         OLAY|       2024-08|     69.43|            9|\n",
      "|Bath & Body| Body Wash|       NaN|   NEUTROGENA|       2024-08|     46.85|            3|\n",
      "|Bath & Body| Body Wash|       NaN|         DIAL|       2024-08|      29.3|            6|\n",
      "|Bath & Body| Body Wash|       NaN|DOVE MEN+CARE|       2024-08|     28.34|            3|\n",
      "|Bath & Body| Body Wash|       NaN|    OLD SPICE|       2024-08|     22.89|            5|\n",
      "|Bath & Body| Body Wash|       NaN|        SUAVE|       2024-08|     19.56|            5|\n",
      "+-----------+----------+----------+-------------+--------------+----------+-------------+\n",
      "\n"
     ]
    },
    {
     "name": "stderr",
     "output_type": "stream",
     "text": [
      "                                                                                \r"
     ]
    }
   ],
   "source": [
    "# Body Wash\n",
    "spark.sql('''\n",
    "WITH Body_Wash_Sale AS (\n",
    "    SELECT \n",
    "        p.category_2,\n",
    "        p.category_3,\n",
    "        p.category_4,\n",
    "        p.brand,\n",
    "        date_format(t.purchase_date, 'yyyy-MM') AS purchase_month,\n",
    "        ROUND(SUM(t.final_sale), 2) AS total_sale,\n",
    "        ROUND(COUNT(t.receipt_id), 2) AS count_of_sale\n",
    "    FROM \n",
    "        Transaction_2 t \n",
    "    LEFT JOIN \n",
    "        Product_2 p ON t.barcode = p.barcode\n",
    "    WHERE \n",
    "        p.category_1 = 'Health & Wellness'\n",
    "          AND p.category_2 = 'Bath & Body'\n",
    "          AND p.category_3 = 'Body Wash'\n",
    "    GROUP BY \n",
    "        p.category_2, \n",
    "        p.category_3, \n",
    "        p.category_4, \n",
    "        p.brand,\n",
    "        date_format(t.purchase_date, 'yyyy-MM')\n",
    ")\n",
    "SELECT *\n",
    "FROM \n",
    "    Body_Wash_Sale\n",
    "WHERE \n",
    "    count_of_sale > 2 -- Filter out those have less than 2 count of sale\n",
    "ORDER BY \n",
    "    purchase_month ASC,\n",
    "    total_sale DESC\n",
    "''').show(50)"
   ]
  },
  {
   "cell_type": "code",
   "execution_count": 40,
   "metadata": {},
   "outputs": [
    {
     "name": "stderr",
     "output_type": "stream",
     "text": [
      "24/10/31 22:53:16 WARN TaskSetManager: Stage 96 contains a task of very large size (3853 KiB). The maximum recommended task size is 1000 KiB.\n"
     ]
    },
    {
     "name": "stdout",
     "output_type": "stream",
     "text": [
      "+-----------+----------+----------+------------+--------------+----------+-------------+\n",
      "| category_2|category_3|category_4|       BRAND|purchase_month|total_sale|count_of_sale|\n",
      "+-----------+----------+----------+------------+--------------+----------+-------------+\n",
      "|Bath & Body|  Bar Soap|       NaN|        DOVE|       2024-06|     30.93|            6|\n",
      "|Bath & Body|  Bar Soap|       NaN|        DIAL|       2024-06|     13.36|            3|\n",
      "|Bath & Body|  Bar Soap|       NaN|        DOVE|       2024-07|    234.51|           25|\n",
      "|Bath & Body|  Bar Soap|       NaN|      CARESS|       2024-07|      6.42|            2|\n",
      "|Bath & Body|  Bar Soap|       NaN|        DOVE|       2024-08|     79.62|            9|\n",
      "|Bath & Body|  Bar Soap|       NaN|        DIAL|       2024-08|     27.92|            7|\n",
      "|Bath & Body|  Bar Soap|       NaN|IRISH SPRING|       2024-08|     17.08|            2|\n",
      "|Bath & Body|  Bar Soap|       NaN|      CARESS|       2024-08|     12.67|            3|\n",
      "|Bath & Body|  Bar Soap|       NaN|     unknown|       2024-08|      9.96|            2|\n",
      "|Bath & Body|  Bar Soap|       NaN|       COAST|       2024-08|      6.97|            2|\n",
      "|Bath & Body|  Bar Soap|       NaN|  NEUTROGENA|       2024-08|      5.94|            2|\n",
      "|Bath & Body|  Bar Soap|       NaN|        ZEST|       2024-08|      3.34|            3|\n",
      "|Bath & Body|  Bar Soap|       NaN|        DOVE|       2024-09|      8.94|            2|\n",
      "+-----------+----------+----------+------------+--------------+----------+-------------+\n",
      "\n"
     ]
    }
   ],
   "source": [
    "# Bar Soap\n",
    "spark.sql('''\n",
    "WITH Bar_Soap_Sale AS (\n",
    "    SELECT \n",
    "        p.category_2,\n",
    "        p.category_3,\n",
    "        p.category_4,\n",
    "        p.BRAND,\n",
    "        date_format(t.purchase_date, 'yyyy-MM') AS purchase_month,\n",
    "        ROUND(SUM(t.final_sale), 2) AS total_sale,\n",
    "        ROUND(COUNT(t.receipt_id), 2) AS count_of_sale\n",
    "    FROM \n",
    "        Transaction_2 t \n",
    "    LEFT JOIN \n",
    "        Product_2 p ON t.barcode = p.barcode\n",
    "    WHERE \n",
    "        p.category_1 = 'Health & Wellness'\n",
    "          AND p.category_2 = 'Bath & Body'\n",
    "          AND p.category_3 = 'Bar Soap'\n",
    "    GROUP BY \n",
    "        p.category_2, \n",
    "        p.category_3, \n",
    "        p.category_4, \n",
    "        p.brand,\n",
    "        date_format(t.purchase_date, 'yyyy-MM')\n",
    ")\n",
    "SELECT *\n",
    "FROM \n",
    "    Bar_Soap_Sale\n",
    "WHERE \n",
    "    count_of_sale <> 1 -- Filter out those only have 1 count of sale\n",
    "ORDER BY \n",
    "    purchase_month ASC, \n",
    "    total_sale DESC\n",
    "''').show(30)"
   ]
  },
  {
   "cell_type": "code",
   "execution_count": 41,
   "metadata": {},
   "outputs": [
    {
     "name": "stderr",
     "output_type": "stream",
     "text": [
      "24/10/31 22:53:17 WARN TaskSetManager: Stage 105 contains a task of very large size (3853 KiB). The maximum recommended task size is 1000 KiB.\n",
      "[Stage 105:==================================================>    (10 + 1) / 11]\r"
     ]
    },
    {
     "name": "stdout",
     "output_type": "stream",
     "text": [
      "+--------------------+--------------------+----------+-------------+--------------+----------+-------------+\n",
      "|          category_2|          category_3|category_4|        brand|purchase_month|total_sale|count_of_sale|\n",
      "+--------------------+--------------------+----------+-------------+--------------+----------+-------------+\n",
      "|Deodorant & Antip...|Women's Deodorant...|       NaN|         DOVE|       2024-06|     60.78|           10|\n",
      "|Deodorant & Antip...|Women's Deodorant...|       NaN|       SECRET|       2024-06|     45.26|            7|\n",
      "|Deodorant & Antip...|Women's Deodorant...|       NaN|    OLD SPICE|       2024-06|     27.66|            4|\n",
      "|Deodorant & Antip...|Women's Deodorant...|       NaN|     GILLETTE|       2024-06|     16.96|            2|\n",
      "|Deodorant & Antip...|Women's Deodorant...|       NaN|       DEGREE|       2024-06|      9.26|            2|\n",
      "|Deodorant & Antip...|Women's Deodorant...|       NaN|        SUAVE|       2024-06|      8.43|            4|\n",
      "|Deodorant & Antip...|Women's Deodorant...|       NaN|       SECRET|       2024-07|    148.97|           18|\n",
      "|Deodorant & Antip...|Women's Deodorant...|       NaN|         DOVE|       2024-07|    111.22|           14|\n",
      "|Deodorant & Antip...|Women's Deodorant...|       NaN|       DEGREE|       2024-07|     40.74|            7|\n",
      "|Deodorant & Antip...|Women's Deodorant...|       NaN|    OLD SPICE|       2024-07|     30.19|            6|\n",
      "|Deodorant & Antip...|Women's Deodorant...|       NaN|SHEA MOISTURE|       2024-07|     20.33|            2|\n",
      "|Deodorant & Antip...|Women's Deodorant...|       NaN|          BAN|       2024-07|     15.57|            2|\n",
      "|Deodorant & Antip...|Women's Deodorant...|       NaN|        SUAVE|       2024-07|      9.68|            7|\n",
      "|Deodorant & Antip...|Women's Deodorant...|       NaN|     GILLETTE|       2024-07|      8.79|            2|\n",
      "|Deodorant & Antip...|Women's Deodorant...|       NaN|       DEGREE|       2024-08|     75.63|            9|\n",
      "|Deodorant & Antip...|Women's Deodorant...|       NaN|       SECRET|       2024-08|     69.96|           10|\n",
      "|Deodorant & Antip...|Women's Deodorant...|       NaN|         DOVE|       2024-08|     47.37|            6|\n",
      "|Deodorant & Antip...|Women's Deodorant...|       NaN|    OLD SPICE|       2024-08|     30.16|            5|\n",
      "|Deodorant & Antip...|Women's Deodorant...|       NaN|        SUAVE|       2024-08|      18.0|            8|\n",
      "|Deodorant & Antip...|Women's Deodorant...|       NaN|      MITCHUM|       2024-08|     11.79|            2|\n",
      "|Deodorant & Antip...|Women's Deodorant...|       NaN|     GILLETTE|       2024-08|      3.94|            2|\n",
      "|Deodorant & Antip...|Women's Deodorant...|       NaN|       SECRET|       2024-09|     17.11|            3|\n",
      "+--------------------+--------------------+----------+-------------+--------------+----------+-------------+\n",
      "\n"
     ]
    },
    {
     "name": "stderr",
     "output_type": "stream",
     "text": [
      "                                                                                \r"
     ]
    }
   ],
   "source": [
    "# Women Deodorant\n",
    "spark.sql('''\n",
    "WITH Women_Deodorant AS (\n",
    "    SELECT \n",
    "        p.category_2,\n",
    "        p.category_3,\n",
    "        p.category_4,\n",
    "        p.brand,\n",
    "        date_format(t.purchase_date, 'yyyy-MM') AS purchase_month,\n",
    "        ROUND(SUM(t.final_sale), 2) AS total_sale,\n",
    "        ROUND(COUNT(t.receipt_id), 2) AS count_of_sale\n",
    "    FROM \n",
    "        Transaction_2 t \n",
    "    LEFT JOIN \n",
    "        Product_2 p ON t.barcode = p.barcode\n",
    "    WHERE \n",
    "        p.category_1 = 'Health & Wellness'\n",
    "          AND p.category_2 = 'Deodorant & Antiperspirant'\n",
    "          AND p.category_3 = \"Women's Deodorant & Antiperspirant\"\n",
    "    GROUP BY \n",
    "        p.category_2, \n",
    "        p.category_3, \n",
    "        p.category_4, \n",
    "        p.brand,\n",
    "        date_format(t.purchase_date, 'yyyy-MM')\n",
    ")\n",
    "SELECT *\n",
    "FROM \n",
    "    Women_Deodorant\n",
    "WHERE \n",
    "    count_of_sale <> 1 -- Filter out those only have 1 count of sale\n",
    "ORDER BY \n",
    "    purchase_month ASC, \n",
    "    total_sale DESC\n",
    "''').show(30)"
   ]
  }
 ],
 "metadata": {
  "kernelspec": {
   "display_name": "Python 3",
   "language": "python",
   "name": "python3"
  },
  "language_info": {
   "codemirror_mode": {
    "name": "ipython",
    "version": 3
   },
   "file_extension": ".py",
   "mimetype": "text/x-python",
   "name": "python",
   "nbconvert_exporter": "python",
   "pygments_lexer": "ipython3",
   "version": "3.9.6"
  }
 },
 "nbformat": 4,
 "nbformat_minor": 2
}
